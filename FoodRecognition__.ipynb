{
 "cells": [
  {
   "cell_type": "markdown",
   "metadata": {
    "id": "5vUbBvinu8zW"
   },
   "source": [
    "#Importing libraries"
   ]
  },
  {
   "cell_type": "code",
   "metadata": {
    "id": "4JsejDm3uxTS",
    "ExecuteTime": {
     "end_time": "2024-05-25T20:09:57.544208Z",
     "start_time": "2024-05-25T20:09:44.940115Z"
    }
   },
   "source": [
    "import tensorflow as tf\n",
    "import matplotlib.pyplot as plt\n",
    "print(\"Versión de TensorFlow:\", tf.__version__)"
   ],
   "outputs": [
    {
     "name": "stdout",
     "output_type": "stream",
     "text": [
      "Versión de TensorFlow: 2.16.1\n"
     ]
    }
   ],
   "execution_count": 1
  },
  {
   "cell_type": "markdown",
   "metadata": {
    "id": "i2w52yYrvTu9"
   },
   "source": [
    "#Data Preprocessing"
   ]
  },
  {
   "cell_type": "code",
   "metadata": {
    "ExecuteTime": {
     "end_time": "2024-05-25T20:09:57.554836Z",
     "start_time": "2024-05-25T20:09:57.545214Z"
    }
   },
   "source": [
    "print(tf.config.list_physical_devices())"
   ],
   "outputs": [
    {
     "name": "stdout",
     "output_type": "stream",
     "text": [
      "[PhysicalDevice(name='/physical_device:CPU:0', device_type='CPU')]\n"
     ]
    }
   ],
   "execution_count": 2
  },
  {
   "cell_type": "markdown",
   "metadata": {
    "id": "vU3NlcKCwlIZ"
   },
   "source": [
    "##Training Image preprocessing"
   ]
  },
  {
   "cell_type": "code",
   "metadata": {
    "colab": {
     "base_uri": "https://localhost:8080/"
    },
    "id": "Kjoa0oUHvQAv",
    "outputId": "60db20b9-4f21-4a40-d306-cf0de2ac0178",
    "ExecuteTime": {
     "end_time": "2024-05-25T20:09:58.176434Z",
     "start_time": "2024-05-25T20:09:57.562843Z"
    }
   },
   "source": [
    "training_set = tf.keras.utils.image_dataset_from_directory(\n",
    "    'archive/train',\n",
    "    labels=\"inferred\",\n",
    "    label_mode=\"categorical\",\n",
    "    class_names=None,\n",
    "    color_mode=\"rgb\",\n",
    "    batch_size=32,\n",
    "    image_size=(128,128),\n",
    "    shuffle=True,\n",
    "    seed=None,\n",
    "    validation_split=None,\n",
    "    subset=None,\n",
    "    interpolation=\"bilinear\",\n",
    "    follow_links=False,\n",
    "    crop_to_aspect_ratio=False\n",
    ")"
   ],
   "outputs": [
    {
     "name": "stdout",
     "output_type": "stream",
     "text": [
      "Found 3256 files belonging to 36 classes.\n"
     ]
    }
   ],
   "execution_count": 3
  },
  {
   "cell_type": "markdown",
   "metadata": {
    "id": "nK9Ev76o0mdJ"
   },
   "source": [
    "##Validation Image Preprocessing"
   ]
  },
  {
   "cell_type": "code",
   "metadata": {
    "colab": {
     "base_uri": "https://localhost:8080/"
    },
    "id": "Tocls4IowkNB",
    "outputId": "5c86644c-2308-481d-8c88-5d7807de236e",
    "ExecuteTime": {
     "end_time": "2024-05-25T20:09:58.283843Z",
     "start_time": "2024-05-25T20:09:58.179464Z"
    }
   },
   "source": [
    "validation_set = tf.keras.utils.image_dataset_from_directory(\n",
    "    'archive/validation',\n",
    "    labels=\"inferred\",\n",
    "    label_mode=\"categorical\",\n",
    "    class_names=None,\n",
    "    color_mode=\"rgb\",\n",
    "    batch_size=32,\n",
    "    image_size=(128, 128),\n",
    "    shuffle=True,\n",
    "    seed=None,\n",
    "    validation_split=None,\n",
    "    subset=None,\n",
    "    interpolation=\"bilinear\",\n",
    "    follow_links=False,\n",
    "    crop_to_aspect_ratio=False\n",
    ")"
   ],
   "outputs": [
    {
     "name": "stdout",
     "output_type": "stream",
     "text": [
      "Found 351 files belonging to 36 classes.\n"
     ]
    }
   ],
   "execution_count": 4
  },
  {
   "cell_type": "markdown",
   "metadata": {
    "id": "OQ_TcbD7r2Cw"
   },
   "source": [
    "#Building Model"
   ]
  },
  {
   "cell_type": "code",
   "metadata": {
    "id": "cUMiJrPvsBTU",
    "ExecuteTime": {
     "end_time": "2024-05-25T20:09:58.294957Z",
     "start_time": "2024-05-25T20:09:58.285856Z"
    }
   },
   "source": [
    "cnn = tf.keras.models.Sequential()"
   ],
   "outputs": [],
   "execution_count": 5
  },
  {
   "cell_type": "markdown",
   "metadata": {
    "id": "mgFWYq7ssLkV"
   },
   "source": [
    "##Building Convolution Layer"
   ]
  },
  {
   "cell_type": "code",
   "metadata": {
    "id": "LoaODWuZrHFg",
    "ExecuteTime": {
     "end_time": "2024-05-25T20:09:58.331453Z",
     "start_time": "2024-05-25T20:09:58.306188Z"
    }
   },
   "source": [
    "cnn.add(tf.keras.layers.Conv2D(filters=32,kernel_size=3,padding='same',activation='relu',input_shape=[128,128,3]))\n",
    "cnn.add(tf.keras.layers.Conv2D(filters=32,kernel_size=3,activation='relu'))\n",
    "cnn.add(tf.keras.layers.MaxPool2D(pool_size=2,strides=2))"
   ],
   "outputs": [
    {
     "name": "stderr",
     "output_type": "stream",
     "text": [
      "C:\\Users\\ederd\\AppData\\Local\\Programs\\Python\\Python312\\Lib\\site-packages\\keras\\src\\layers\\convolutional\\base_conv.py:107: UserWarning: Do not pass an `input_shape`/`input_dim` argument to a layer. When using Sequential models, prefer using an `Input(shape)` object as the first layer in the model instead.\n",
      "  super().__init__(activity_regularizer=activity_regularizer, **kwargs)\n"
     ]
    }
   ],
   "execution_count": 6
  },
  {
   "cell_type": "code",
   "metadata": {
    "id": "b5-b7yo8mJHq",
    "ExecuteTime": {
     "end_time": "2024-05-25T20:09:58.354931Z",
     "start_time": "2024-05-25T20:09:58.333473Z"
    }
   },
   "source": [
    "cnn.add(tf.keras.layers.Dropout(0.25))"
   ],
   "outputs": [],
   "execution_count": 7
  },
  {
   "cell_type": "code",
   "metadata": {
    "id": "5-potKmKsOr2",
    "ExecuteTime": {
     "end_time": "2024-05-25T20:09:58.366511Z",
     "start_time": "2024-05-25T20:09:58.356949Z"
    }
   },
   "source": [
    "cnn.add(tf.keras.layers.Conv2D(filters=64,kernel_size=3,padding='same',activation='relu'))\n",
    "cnn.add(tf.keras.layers.Conv2D(filters=64,kernel_size=3,activation='relu'))\n",
    "cnn.add(tf.keras.layers.MaxPool2D(pool_size=2,strides=2))"
   ],
   "outputs": [],
   "execution_count": 8
  },
  {
   "cell_type": "code",
   "metadata": {
    "id": "0B29AmGWmZeV",
    "ExecuteTime": {
     "end_time": "2024-05-25T20:09:58.382422Z",
     "start_time": "2024-05-25T20:09:58.371528Z"
    }
   },
   "source": [
    "cnn.add(tf.keras.layers.Dropout(0.25))"
   ],
   "outputs": [],
   "execution_count": 9
  },
  {
   "cell_type": "code",
   "metadata": {
    "id": "NPZ2NGthuTv5",
    "ExecuteTime": {
     "end_time": "2024-05-25T20:09:58.390490Z",
     "start_time": "2024-05-25T20:09:58.384447Z"
    }
   },
   "source": [
    "cnn.add(tf.keras.layers.Flatten())"
   ],
   "outputs": [],
   "execution_count": 10
  },
  {
   "cell_type": "code",
   "metadata": {
    "id": "demjWjcWuc3q",
    "ExecuteTime": {
     "end_time": "2024-05-25T20:09:58.400080Z",
     "start_time": "2024-05-25T20:09:58.393507Z"
    }
   },
   "source": [
    "cnn.add(tf.keras.layers.Dense(units=512,activation='relu'))"
   ],
   "outputs": [],
   "execution_count": 11
  },
  {
   "cell_type": "code",
   "metadata": {
    "id": "_cD4jLBauZtk",
    "ExecuteTime": {
     "end_time": "2024-05-25T20:09:58.410294Z",
     "start_time": "2024-05-25T20:09:58.402098Z"
    }
   },
   "source": [
    "cnn.add(tf.keras.layers.Dense(units=256,activation='relu'))"
   ],
   "outputs": [],
   "execution_count": 12
  },
  {
   "cell_type": "code",
   "metadata": {
    "id": "2onuZO6YuBF3",
    "ExecuteTime": {
     "end_time": "2024-05-25T20:09:58.424127Z",
     "start_time": "2024-05-25T20:09:58.412806Z"
    }
   },
   "source": [
    "cnn.add(tf.keras.layers.Dropout(0.5)) #To avoid overfitting"
   ],
   "outputs": [],
   "execution_count": 13
  },
  {
   "cell_type": "code",
   "metadata": {
    "id": "toAqflkCuwoS",
    "ExecuteTime": {
     "end_time": "2024-05-25T20:09:58.434112Z",
     "start_time": "2024-05-25T20:09:58.426148Z"
    }
   },
   "source": [
    "#Output Layer\n",
    "cnn.add(tf.keras.layers.Dense(units=36,activation='softmax'))"
   ],
   "outputs": [],
   "execution_count": 14
  },
  {
   "cell_type": "markdown",
   "metadata": {
    "id": "sYYdAFZDvt1P"
   },
   "source": [
    "#Compiling and Training Phase"
   ]
  },
  {
   "cell_type": "code",
   "metadata": {
    "id": "yAcyiEfVvVzw",
    "ExecuteTime": {
     "end_time": "2024-05-25T20:09:58.474010Z",
     "start_time": "2024-05-25T20:09:58.436134Z"
    }
   },
   "source": [
    "cnn.compile(optimizer='adam',loss='categorical_crossentropy',metrics=['accuracy'])"
   ],
   "outputs": [],
   "execution_count": 15
  },
  {
   "cell_type": "code",
   "metadata": {
    "colab": {
     "base_uri": "https://localhost:8080/"
    },
    "id": "X0MROJsdlC5Z",
    "outputId": "04310fb5-dfd1-4689-e32a-5560865159a4",
    "ExecuteTime": {
     "end_time": "2024-05-25T20:09:58.668454Z",
     "start_time": "2024-05-25T20:09:58.477021Z"
    }
   },
   "source": [
    "cnn.summary()"
   ],
   "outputs": [
    {
     "data": {
      "text/plain": [
       "\u001B[1mModel: \"sequential\"\u001B[0m\n"
      ],
      "text/html": [
       "<pre style=\"white-space:pre;overflow-x:auto;line-height:normal;font-family:Menlo,'DejaVu Sans Mono',consolas,'Courier New',monospace\"><span style=\"font-weight: bold\">Model: \"sequential\"</span>\n",
       "</pre>\n"
      ]
     },
     "metadata": {},
     "output_type": "display_data"
    },
    {
     "data": {
      "text/plain": [
       "┏━━━━━━━━━━━━━━━━━━━━━━━━━━━━━━━━━┳━━━━━━━━━━━━━━━━━━━━━━━━┳━━━━━━━━━━━━━━━┓\n",
       "┃\u001B[1m \u001B[0m\u001B[1mLayer (type)                   \u001B[0m\u001B[1m \u001B[0m┃\u001B[1m \u001B[0m\u001B[1mOutput Shape          \u001B[0m\u001B[1m \u001B[0m┃\u001B[1m \u001B[0m\u001B[1m      Param #\u001B[0m\u001B[1m \u001B[0m┃\n",
       "┡━━━━━━━━━━━━━━━━━━━━━━━━━━━━━━━━━╇━━━━━━━━━━━━━━━━━━━━━━━━╇━━━━━━━━━━━━━━━┩\n",
       "│ conv2d (\u001B[38;5;33mConv2D\u001B[0m)                 │ ?                      │   \u001B[38;5;34m0\u001B[0m (unbuilt) │\n",
       "├─────────────────────────────────┼────────────────────────┼───────────────┤\n",
       "│ conv2d_1 (\u001B[38;5;33mConv2D\u001B[0m)               │ ?                      │   \u001B[38;5;34m0\u001B[0m (unbuilt) │\n",
       "├─────────────────────────────────┼────────────────────────┼───────────────┤\n",
       "│ max_pooling2d (\u001B[38;5;33mMaxPooling2D\u001B[0m)    │ ?                      │   \u001B[38;5;34m0\u001B[0m (unbuilt) │\n",
       "├─────────────────────────────────┼────────────────────────┼───────────────┤\n",
       "│ dropout (\u001B[38;5;33mDropout\u001B[0m)               │ ?                      │   \u001B[38;5;34m0\u001B[0m (unbuilt) │\n",
       "├─────────────────────────────────┼────────────────────────┼───────────────┤\n",
       "│ conv2d_2 (\u001B[38;5;33mConv2D\u001B[0m)               │ ?                      │   \u001B[38;5;34m0\u001B[0m (unbuilt) │\n",
       "├─────────────────────────────────┼────────────────────────┼───────────────┤\n",
       "│ conv2d_3 (\u001B[38;5;33mConv2D\u001B[0m)               │ ?                      │   \u001B[38;5;34m0\u001B[0m (unbuilt) │\n",
       "├─────────────────────────────────┼────────────────────────┼───────────────┤\n",
       "│ max_pooling2d_1 (\u001B[38;5;33mMaxPooling2D\u001B[0m)  │ ?                      │   \u001B[38;5;34m0\u001B[0m (unbuilt) │\n",
       "├─────────────────────────────────┼────────────────────────┼───────────────┤\n",
       "│ dropout_1 (\u001B[38;5;33mDropout\u001B[0m)             │ ?                      │   \u001B[38;5;34m0\u001B[0m (unbuilt) │\n",
       "├─────────────────────────────────┼────────────────────────┼───────────────┤\n",
       "│ flatten (\u001B[38;5;33mFlatten\u001B[0m)               │ ?                      │   \u001B[38;5;34m0\u001B[0m (unbuilt) │\n",
       "├─────────────────────────────────┼────────────────────────┼───────────────┤\n",
       "│ dense (\u001B[38;5;33mDense\u001B[0m)                   │ ?                      │   \u001B[38;5;34m0\u001B[0m (unbuilt) │\n",
       "├─────────────────────────────────┼────────────────────────┼───────────────┤\n",
       "│ dense_1 (\u001B[38;5;33mDense\u001B[0m)                 │ ?                      │   \u001B[38;5;34m0\u001B[0m (unbuilt) │\n",
       "├─────────────────────────────────┼────────────────────────┼───────────────┤\n",
       "│ dropout_2 (\u001B[38;5;33mDropout\u001B[0m)             │ ?                      │   \u001B[38;5;34m0\u001B[0m (unbuilt) │\n",
       "├─────────────────────────────────┼────────────────────────┼───────────────┤\n",
       "│ dense_2 (\u001B[38;5;33mDense\u001B[0m)                 │ ?                      │   \u001B[38;5;34m0\u001B[0m (unbuilt) │\n",
       "└─────────────────────────────────┴────────────────────────┴───────────────┘\n"
      ],
      "text/html": [
       "<pre style=\"white-space:pre;overflow-x:auto;line-height:normal;font-family:Menlo,'DejaVu Sans Mono',consolas,'Courier New',monospace\">┏━━━━━━━━━━━━━━━━━━━━━━━━━━━━━━━━━┳━━━━━━━━━━━━━━━━━━━━━━━━┳━━━━━━━━━━━━━━━┓\n",
       "┃<span style=\"font-weight: bold\"> Layer (type)                    </span>┃<span style=\"font-weight: bold\"> Output Shape           </span>┃<span style=\"font-weight: bold\">       Param # </span>┃\n",
       "┡━━━━━━━━━━━━━━━━━━━━━━━━━━━━━━━━━╇━━━━━━━━━━━━━━━━━━━━━━━━╇━━━━━━━━━━━━━━━┩\n",
       "│ conv2d (<span style=\"color: #0087ff; text-decoration-color: #0087ff\">Conv2D</span>)                 │ ?                      │   <span style=\"color: #00af00; text-decoration-color: #00af00\">0</span> (unbuilt) │\n",
       "├─────────────────────────────────┼────────────────────────┼───────────────┤\n",
       "│ conv2d_1 (<span style=\"color: #0087ff; text-decoration-color: #0087ff\">Conv2D</span>)               │ ?                      │   <span style=\"color: #00af00; text-decoration-color: #00af00\">0</span> (unbuilt) │\n",
       "├─────────────────────────────────┼────────────────────────┼───────────────┤\n",
       "│ max_pooling2d (<span style=\"color: #0087ff; text-decoration-color: #0087ff\">MaxPooling2D</span>)    │ ?                      │   <span style=\"color: #00af00; text-decoration-color: #00af00\">0</span> (unbuilt) │\n",
       "├─────────────────────────────────┼────────────────────────┼───────────────┤\n",
       "│ dropout (<span style=\"color: #0087ff; text-decoration-color: #0087ff\">Dropout</span>)               │ ?                      │   <span style=\"color: #00af00; text-decoration-color: #00af00\">0</span> (unbuilt) │\n",
       "├─────────────────────────────────┼────────────────────────┼───────────────┤\n",
       "│ conv2d_2 (<span style=\"color: #0087ff; text-decoration-color: #0087ff\">Conv2D</span>)               │ ?                      │   <span style=\"color: #00af00; text-decoration-color: #00af00\">0</span> (unbuilt) │\n",
       "├─────────────────────────────────┼────────────────────────┼───────────────┤\n",
       "│ conv2d_3 (<span style=\"color: #0087ff; text-decoration-color: #0087ff\">Conv2D</span>)               │ ?                      │   <span style=\"color: #00af00; text-decoration-color: #00af00\">0</span> (unbuilt) │\n",
       "├─────────────────────────────────┼────────────────────────┼───────────────┤\n",
       "│ max_pooling2d_1 (<span style=\"color: #0087ff; text-decoration-color: #0087ff\">MaxPooling2D</span>)  │ ?                      │   <span style=\"color: #00af00; text-decoration-color: #00af00\">0</span> (unbuilt) │\n",
       "├─────────────────────────────────┼────────────────────────┼───────────────┤\n",
       "│ dropout_1 (<span style=\"color: #0087ff; text-decoration-color: #0087ff\">Dropout</span>)             │ ?                      │   <span style=\"color: #00af00; text-decoration-color: #00af00\">0</span> (unbuilt) │\n",
       "├─────────────────────────────────┼────────────────────────┼───────────────┤\n",
       "│ flatten (<span style=\"color: #0087ff; text-decoration-color: #0087ff\">Flatten</span>)               │ ?                      │   <span style=\"color: #00af00; text-decoration-color: #00af00\">0</span> (unbuilt) │\n",
       "├─────────────────────────────────┼────────────────────────┼───────────────┤\n",
       "│ dense (<span style=\"color: #0087ff; text-decoration-color: #0087ff\">Dense</span>)                   │ ?                      │   <span style=\"color: #00af00; text-decoration-color: #00af00\">0</span> (unbuilt) │\n",
       "├─────────────────────────────────┼────────────────────────┼───────────────┤\n",
       "│ dense_1 (<span style=\"color: #0087ff; text-decoration-color: #0087ff\">Dense</span>)                 │ ?                      │   <span style=\"color: #00af00; text-decoration-color: #00af00\">0</span> (unbuilt) │\n",
       "├─────────────────────────────────┼────────────────────────┼───────────────┤\n",
       "│ dropout_2 (<span style=\"color: #0087ff; text-decoration-color: #0087ff\">Dropout</span>)             │ ?                      │   <span style=\"color: #00af00; text-decoration-color: #00af00\">0</span> (unbuilt) │\n",
       "├─────────────────────────────────┼────────────────────────┼───────────────┤\n",
       "│ dense_2 (<span style=\"color: #0087ff; text-decoration-color: #0087ff\">Dense</span>)                 │ ?                      │   <span style=\"color: #00af00; text-decoration-color: #00af00\">0</span> (unbuilt) │\n",
       "└─────────────────────────────────┴────────────────────────┴───────────────┘\n",
       "</pre>\n"
      ]
     },
     "metadata": {},
     "output_type": "display_data"
    },
    {
     "data": {
      "text/plain": [
       "\u001B[1m Total params: \u001B[0m\u001B[38;5;34m0\u001B[0m (0.00 B)\n"
      ],
      "text/html": [
       "<pre style=\"white-space:pre;overflow-x:auto;line-height:normal;font-family:Menlo,'DejaVu Sans Mono',consolas,'Courier New',monospace\"><span style=\"font-weight: bold\"> Total params: </span><span style=\"color: #00af00; text-decoration-color: #00af00\">0</span> (0.00 B)\n",
       "</pre>\n"
      ]
     },
     "metadata": {},
     "output_type": "display_data"
    },
    {
     "data": {
      "text/plain": [
       "\u001B[1m Trainable params: \u001B[0m\u001B[38;5;34m0\u001B[0m (0.00 B)\n"
      ],
      "text/html": [
       "<pre style=\"white-space:pre;overflow-x:auto;line-height:normal;font-family:Menlo,'DejaVu Sans Mono',consolas,'Courier New',monospace\"><span style=\"font-weight: bold\"> Trainable params: </span><span style=\"color: #00af00; text-decoration-color: #00af00\">0</span> (0.00 B)\n",
       "</pre>\n"
      ]
     },
     "metadata": {},
     "output_type": "display_data"
    },
    {
     "data": {
      "text/plain": [
       "\u001B[1m Non-trainable params: \u001B[0m\u001B[38;5;34m0\u001B[0m (0.00 B)\n"
      ],
      "text/html": [
       "<pre style=\"white-space:pre;overflow-x:auto;line-height:normal;font-family:Menlo,'DejaVu Sans Mono',consolas,'Courier New',monospace\"><span style=\"font-weight: bold\"> Non-trainable params: </span><span style=\"color: #00af00; text-decoration-color: #00af00\">0</span> (0.00 B)\n",
       "</pre>\n"
      ]
     },
     "metadata": {},
     "output_type": "display_data"
    }
   ],
   "execution_count": 16
  },
  {
   "cell_type": "code",
   "metadata": {
    "colab": {
     "background_save": true,
     "base_uri": "https://localhost:8080/"
    },
    "id": "K3W4dNUrvxIw",
    "outputId": "5af8729f-6369-48f8-b5b7-50eefb02e423",
    "ExecuteTime": {
     "end_time": "2024-05-25T21:03:30.601546Z",
     "start_time": "2024-05-25T20:09:58.670467Z"
    }
   },
   "source": "training_history = cnn.fit(x=training_set,validation_data=validation_set,epochs=36)",
   "outputs": [
    {
     "name": "stdout",
     "output_type": "stream",
     "text": [
      "Epoch 1/36\n",
      "\u001B[1m102/102\u001B[0m \u001B[32m━━━━━━━━━━━━━━━━━━━━\u001B[0m\u001B[37m\u001B[0m \u001B[1m121s\u001B[0m 1s/step - accuracy: 0.0202 - loss: 70.1714 - val_accuracy: 0.0313 - val_loss: 3.5821\n",
      "Epoch 2/36\n",
      "\u001B[1m102/102\u001B[0m \u001B[32m━━━━━━━━━━━━━━━━━━━━\u001B[0m\u001B[37m\u001B[0m \u001B[1m93s\u001B[0m 904ms/step - accuracy: 0.0261 - loss: 3.5814 - val_accuracy: 0.0798 - val_loss: 3.5156\n",
      "Epoch 3/36\n",
      "\u001B[1m102/102\u001B[0m \u001B[32m━━━━━━━━━━━━━━━━━━━━\u001B[0m\u001B[37m\u001B[0m \u001B[1m88s\u001B[0m 854ms/step - accuracy: 0.0427 - loss: 3.5735 - val_accuracy: 0.0570 - val_loss: 3.5534\n",
      "Epoch 4/36\n",
      "\u001B[1m102/102\u001B[0m \u001B[32m━━━━━━━━━━━━━━━━━━━━\u001B[0m\u001B[37m\u001B[0m \u001B[1m62s\u001B[0m 599ms/step - accuracy: 0.0385 - loss: 3.5689 - val_accuracy: 0.0684 - val_loss: 3.4995\n",
      "Epoch 5/36\n",
      "\u001B[1m102/102\u001B[0m \u001B[32m━━━━━━━━━━━━━━━━━━━━\u001B[0m\u001B[37m\u001B[0m \u001B[1m77s\u001B[0m 749ms/step - accuracy: 0.0453 - loss: 3.5473 - val_accuracy: 0.0798 - val_loss: 3.4953\n",
      "Epoch 6/36\n",
      "\u001B[1m102/102\u001B[0m \u001B[32m━━━━━━━━━━━━━━━━━━━━\u001B[0m\u001B[37m\u001B[0m \u001B[1m84s\u001B[0m 814ms/step - accuracy: 0.0626 - loss: 3.5126 - val_accuracy: 0.1254 - val_loss: 3.4240\n",
      "Epoch 7/36\n",
      "\u001B[1m102/102\u001B[0m \u001B[32m━━━━━━━━━━━━━━━━━━━━\u001B[0m\u001B[37m\u001B[0m \u001B[1m85s\u001B[0m 827ms/step - accuracy: 0.0607 - loss: 3.5119 - val_accuracy: 0.1368 - val_loss: 3.3422\n",
      "Epoch 8/36\n",
      "\u001B[1m102/102\u001B[0m \u001B[32m━━━━━━━━━━━━━━━━━━━━\u001B[0m\u001B[37m\u001B[0m \u001B[1m84s\u001B[0m 817ms/step - accuracy: 0.0794 - loss: 3.4591 - val_accuracy: 0.1595 - val_loss: 3.3070\n",
      "Epoch 9/36\n",
      "\u001B[1m102/102\u001B[0m \u001B[32m━━━━━━━━━━━━━━━━━━━━\u001B[0m\u001B[37m\u001B[0m \u001B[1m92s\u001B[0m 896ms/step - accuracy: 0.0932 - loss: 3.3996 - val_accuracy: 0.2336 - val_loss: 3.0838\n",
      "Epoch 10/36\n",
      "\u001B[1m102/102\u001B[0m \u001B[32m━━━━━━━━━━━━━━━━━━━━\u001B[0m\u001B[37m\u001B[0m \u001B[1m87s\u001B[0m 849ms/step - accuracy: 0.1177 - loss: 3.3845 - val_accuracy: 0.2735 - val_loss: 2.9072\n",
      "Epoch 11/36\n",
      "\u001B[1m102/102\u001B[0m \u001B[32m━━━━━━━━━━━━━━━━━━━━\u001B[0m\u001B[37m\u001B[0m \u001B[1m95s\u001B[0m 924ms/step - accuracy: 0.1630 - loss: 3.1684 - val_accuracy: 0.3504 - val_loss: 2.7833\n",
      "Epoch 12/36\n",
      "\u001B[1m102/102\u001B[0m \u001B[32m━━━━━━━━━━━━━━━━━━━━\u001B[0m\u001B[37m\u001B[0m \u001B[1m97s\u001B[0m 940ms/step - accuracy: 0.2300 - loss: 2.9676 - val_accuracy: 0.3504 - val_loss: 2.5491\n",
      "Epoch 13/36\n",
      "\u001B[1m102/102\u001B[0m \u001B[32m━━━━━━━━━━━━━━━━━━━━\u001B[0m\u001B[37m\u001B[0m \u001B[1m93s\u001B[0m 903ms/step - accuracy: 0.2703 - loss: 2.7923 - val_accuracy: 0.4217 - val_loss: 2.3223\n",
      "Epoch 14/36\n",
      "\u001B[1m102/102\u001B[0m \u001B[32m━━━━━━━━━━━━━━━━━━━━\u001B[0m\u001B[37m\u001B[0m \u001B[1m89s\u001B[0m 861ms/step - accuracy: 0.3120 - loss: 2.7131 - val_accuracy: 0.5271 - val_loss: 2.0727\n",
      "Epoch 15/36\n",
      "\u001B[1m102/102\u001B[0m \u001B[32m━━━━━━━━━━━━━━━━━━━━\u001B[0m\u001B[37m\u001B[0m \u001B[1m94s\u001B[0m 910ms/step - accuracy: 0.3703 - loss: 2.4042 - val_accuracy: 0.5584 - val_loss: 2.0324\n",
      "Epoch 16/36\n",
      "\u001B[1m102/102\u001B[0m \u001B[32m━━━━━━━━━━━━━━━━━━━━\u001B[0m\u001B[37m\u001B[0m \u001B[1m94s\u001B[0m 906ms/step - accuracy: 0.4325 - loss: 2.1891 - val_accuracy: 0.6154 - val_loss: 1.7139\n",
      "Epoch 17/36\n",
      "\u001B[1m102/102\u001B[0m \u001B[32m━━━━━━━━━━━━━━━━━━━━\u001B[0m\u001B[37m\u001B[0m \u001B[1m93s\u001B[0m 905ms/step - accuracy: 0.4583 - loss: 2.0953 - val_accuracy: 0.6296 - val_loss: 1.6799\n",
      "Epoch 18/36\n",
      "\u001B[1m102/102\u001B[0m \u001B[32m━━━━━━━━━━━━━━━━━━━━\u001B[0m\u001B[37m\u001B[0m \u001B[1m94s\u001B[0m 910ms/step - accuracy: 0.5212 - loss: 1.8996 - val_accuracy: 0.6439 - val_loss: 1.5822\n",
      "Epoch 19/36\n",
      "\u001B[1m102/102\u001B[0m \u001B[32m━━━━━━━━━━━━━━━━━━━━\u001B[0m\u001B[37m\u001B[0m \u001B[1m92s\u001B[0m 895ms/step - accuracy: 0.5545 - loss: 1.7761 - val_accuracy: 0.6866 - val_loss: 1.4619\n",
      "Epoch 20/36\n",
      "\u001B[1m102/102\u001B[0m \u001B[32m━━━━━━━━━━━━━━━━━━━━\u001B[0m\u001B[37m\u001B[0m \u001B[1m92s\u001B[0m 891ms/step - accuracy: 0.5836 - loss: 1.6121 - val_accuracy: 0.7208 - val_loss: 1.2851\n",
      "Epoch 21/36\n",
      "\u001B[1m102/102\u001B[0m \u001B[32m━━━━━━━━━━━━━━━━━━━━\u001B[0m\u001B[37m\u001B[0m \u001B[1m89s\u001B[0m 866ms/step - accuracy: 0.6290 - loss: 1.4145 - val_accuracy: 0.7350 - val_loss: 1.2508\n",
      "Epoch 22/36\n",
      "\u001B[1m102/102\u001B[0m \u001B[32m━━━━━━━━━━━━━━━━━━━━\u001B[0m\u001B[37m\u001B[0m \u001B[1m87s\u001B[0m 850ms/step - accuracy: 0.6561 - loss: 1.3635 - val_accuracy: 0.7550 - val_loss: 1.1982\n",
      "Epoch 23/36\n",
      "\u001B[1m102/102\u001B[0m \u001B[32m━━━━━━━━━━━━━━━━━━━━\u001B[0m\u001B[37m\u001B[0m \u001B[1m85s\u001B[0m 823ms/step - accuracy: 0.6842 - loss: 1.2463 - val_accuracy: 0.7550 - val_loss: 1.0613\n",
      "Epoch 24/36\n",
      "\u001B[1m102/102\u001B[0m \u001B[32m━━━━━━━━━━━━━━━━━━━━\u001B[0m\u001B[37m\u001B[0m \u001B[1m87s\u001B[0m 847ms/step - accuracy: 0.7164 - loss: 1.1243 - val_accuracy: 0.7778 - val_loss: 1.0966\n",
      "Epoch 25/36\n",
      "\u001B[1m102/102\u001B[0m \u001B[32m━━━━━━━━━━━━━━━━━━━━\u001B[0m\u001B[37m\u001B[0m \u001B[1m87s\u001B[0m 841ms/step - accuracy: 0.7321 - loss: 0.9963 - val_accuracy: 0.7493 - val_loss: 1.1415\n",
      "Epoch 26/36\n",
      "\u001B[1m102/102\u001B[0m \u001B[32m━━━━━━━━━━━━━━━━━━━━\u001B[0m\u001B[37m\u001B[0m \u001B[1m80s\u001B[0m 778ms/step - accuracy: 0.7554 - loss: 0.9573 - val_accuracy: 0.7977 - val_loss: 0.9980\n",
      "Epoch 27/36\n",
      "\u001B[1m102/102\u001B[0m \u001B[32m━━━━━━━━━━━━━━━━━━━━\u001B[0m\u001B[37m\u001B[0m \u001B[1m87s\u001B[0m 847ms/step - accuracy: 0.7827 - loss: 0.8398 - val_accuracy: 0.8177 - val_loss: 0.9056\n",
      "Epoch 28/36\n",
      "\u001B[1m102/102\u001B[0m \u001B[32m━━━━━━━━━━━━━━━━━━━━\u001B[0m\u001B[37m\u001B[0m \u001B[1m88s\u001B[0m 856ms/step - accuracy: 0.7794 - loss: 0.8537 - val_accuracy: 0.8177 - val_loss: 0.8124\n",
      "Epoch 29/36\n",
      "\u001B[1m102/102\u001B[0m \u001B[32m━━━━━━━━━━━━━━━━━━━━\u001B[0m\u001B[37m\u001B[0m \u001B[1m91s\u001B[0m 882ms/step - accuracy: 0.8198 - loss: 0.7447 - val_accuracy: 0.8575 - val_loss: 0.8338\n",
      "Epoch 30/36\n",
      "\u001B[1m102/102\u001B[0m \u001B[32m━━━━━━━━━━━━━━━━━━━━\u001B[0m\u001B[37m\u001B[0m \u001B[1m95s\u001B[0m 914ms/step - accuracy: 0.8242 - loss: 0.6742 - val_accuracy: 0.8946 - val_loss: 0.6743\n",
      "Epoch 31/36\n",
      "\u001B[1m102/102\u001B[0m \u001B[32m━━━━━━━━━━━━━━━━━━━━\u001B[0m\u001B[37m\u001B[0m \u001B[1m96s\u001B[0m 931ms/step - accuracy: 0.8387 - loss: 0.6711 - val_accuracy: 0.8889 - val_loss: 0.6536\n",
      "Epoch 32/36\n",
      "\u001B[1m102/102\u001B[0m \u001B[32m━━━━━━━━━━━━━━━━━━━━\u001B[0m\u001B[37m\u001B[0m \u001B[1m79s\u001B[0m 768ms/step - accuracy: 0.8550 - loss: 0.5402 - val_accuracy: 0.8946 - val_loss: 0.7209\n",
      "Epoch 33/36\n",
      "\u001B[1m102/102\u001B[0m \u001B[32m━━━━━━━━━━━━━━━━━━━━\u001B[0m\u001B[37m\u001B[0m \u001B[1m81s\u001B[0m 788ms/step - accuracy: 0.8734 - loss: 0.4941 - val_accuracy: 0.9174 - val_loss: 0.5722\n",
      "Epoch 34/36\n",
      "\u001B[1m102/102\u001B[0m \u001B[32m━━━━━━━━━━━━━━━━━━━━\u001B[0m\u001B[37m\u001B[0m \u001B[1m86s\u001B[0m 835ms/step - accuracy: 0.8861 - loss: 0.4106 - val_accuracy: 0.8889 - val_loss: 0.7393\n",
      "Epoch 35/36\n",
      "\u001B[1m102/102\u001B[0m \u001B[32m━━━━━━━━━━━━━━━━━━━━\u001B[0m\u001B[37m\u001B[0m \u001B[1m94s\u001B[0m 908ms/step - accuracy: 0.8718 - loss: 0.5792 - val_accuracy: 0.8661 - val_loss: 0.6725\n",
      "Epoch 36/36\n",
      "\u001B[1m102/102\u001B[0m \u001B[32m━━━━━━━━━━━━━━━━━━━━\u001B[0m\u001B[37m\u001B[0m \u001B[1m93s\u001B[0m 902ms/step - accuracy: 0.8886 - loss: 0.4775 - val_accuracy: 0.9316 - val_loss: 0.4995\n"
     ]
    }
   ],
   "execution_count": 17
  },
  {
   "cell_type": "markdown",
   "metadata": {
    "id": "19E3mwj1phoW"
   },
   "source": [
    "##Evaluating Model"
   ]
  },
  {
   "cell_type": "code",
   "metadata": {
    "colab": {
     "background_save": true
    },
    "id": "iY6o3uxjpgl5",
    "outputId": "c9d1a65c-3eb8-499f-98d9-f2eae28c6a7b",
    "ExecuteTime": {
     "end_time": "2024-05-25T21:03:47.223395Z",
     "start_time": "2024-05-25T21:03:30.640242Z"
    }
   },
   "source": [
    "#Training set Accuracy\n",
    "train_loss, train_acc = cnn.evaluate(training_set)\n",
    "print('Training accuracy:', train_acc)"
   ],
   "outputs": [
    {
     "name": "stdout",
     "output_type": "stream",
     "text": [
      "\u001B[1m102/102\u001B[0m \u001B[32m━━━━━━━━━━━━━━━━━━━━\u001B[0m\u001B[37m\u001B[0m \u001B[1m17s\u001B[0m 158ms/step - accuracy: 0.9384 - loss: 0.2309\n",
      "Training accuracy: 0.9536240696907043\n"
     ]
    }
   ],
   "execution_count": 18
  },
  {
   "cell_type": "code",
   "metadata": {
    "colab": {
     "background_save": true
    },
    "id": "5SaQgd7bpgwl",
    "outputId": "1b22b1d4-b691-4506-cca7-694a840b2d4a",
    "ExecuteTime": {
     "end_time": "2024-05-25T21:03:50.115915Z",
     "start_time": "2024-05-25T21:03:47.227929Z"
    }
   },
   "source": [
    "#Validation set Accuracy\n",
    "val_loss, val_acc = cnn.evaluate(validation_set)\n",
    "print('Validation accuracy:', val_acc)"
   ],
   "outputs": [
    {
     "name": "stdout",
     "output_type": "stream",
     "text": [
      "\u001B[1m11/11\u001B[0m \u001B[32m━━━━━━━━━━━━━━━━━━━━\u001B[0m\u001B[37m\u001B[0m \u001B[1m3s\u001B[0m 174ms/step - accuracy: 0.9475 - loss: 0.4394\n",
      "Validation accuracy: 0.9316239356994629\n"
     ]
    }
   ],
   "execution_count": 19
  },
  {
   "cell_type": "markdown",
   "metadata": {
    "id": "Qxp0xsjVBGec"
   },
   "source": [
    "##Saving Model"
   ]
  },
  {
   "cell_type": "code",
   "metadata": {
    "colab": {
     "background_save": true
    },
    "id": "EEUrBzCrxKt_",
    "outputId": "8096794b-cf40-4a5f-bc1d-66bf3ab68905",
    "ExecuteTime": {
     "end_time": "2024-05-25T21:03:52.430058Z",
     "start_time": "2024-05-25T21:03:50.119431Z"
    }
   },
   "source": "cnn.save('trained_model2.h5')",
   "outputs": [],
   "execution_count": 20
  },
  {
   "cell_type": "code",
   "metadata": {
    "colab": {
     "background_save": true
    },
    "id": "BM-sILNMBwh1",
    "outputId": "92a51a99-9651-4e02-e1de-ddfb9fa995f9",
    "ExecuteTime": {
     "end_time": "2024-05-25T21:03:52.467525Z",
     "start_time": "2024-05-25T21:03:52.435601Z"
    }
   },
   "source": [
    "training_history.history #Return Dictionary of history"
   ],
   "outputs": [
    {
     "data": {
      "text/plain": [
       "{'accuracy': [0.022113021463155746,\n",
       "  0.029791153967380524,\n",
       "  0.03562653437256813,\n",
       "  0.037776414304971695,\n",
       "  0.04852579906582832,\n",
       "  0.07125306874513626,\n",
       "  0.0684889405965805,\n",
       "  0.09152334183454514,\n",
       "  0.11394348740577698,\n",
       "  0.13851352035999298,\n",
       "  0.18243242800235748,\n",
       "  0.251842737197876,\n",
       "  0.28961917757987976,\n",
       "  0.3356879651546478,\n",
       "  0.3949631452560425,\n",
       "  0.45178133249282837,\n",
       "  0.48464372754096985,\n",
       "  0.5377764105796814,\n",
       "  0.5681818127632141,\n",
       "  0.6062653660774231,\n",
       "  0.6554054021835327,\n",
       "  0.6756756901741028,\n",
       "  0.7060810923576355,\n",
       "  0.7414004802703857,\n",
       "  0.7539926171302795,\n",
       "  0.7727272510528564,\n",
       "  0.8003685474395752,\n",
       "  0.7994471788406372,\n",
       "  0.8249385952949524,\n",
       "  0.8427518606185913,\n",
       "  0.8636363744735718,\n",
       "  0.8725429773330688,\n",
       "  0.8863636255264282,\n",
       "  0.9011056423187256,\n",
       "  0.8802211284637451,\n",
       "  0.9133906364440918],\n",
       " 'loss': [21.051294326782227,\n",
       "  3.580564498901367,\n",
       "  3.5754151344299316,\n",
       "  3.5580835342407227,\n",
       "  3.530963897705078,\n",
       "  3.489741802215576,\n",
       "  3.477947950363159,\n",
       "  3.431076765060425,\n",
       "  3.325554847717285,\n",
       "  3.2787203788757324,\n",
       "  3.08658766746521,\n",
       "  2.8781259059906006,\n",
       "  2.716153144836426,\n",
       "  2.6197152137756348,\n",
       "  2.308833360671997,\n",
       "  2.0800275802612305,\n",
       "  2.0096793174743652,\n",
       "  1.806368112564087,\n",
       "  1.6849582195281982,\n",
       "  1.537065029144287,\n",
       "  1.3279986381530762,\n",
       "  1.2870771884918213,\n",
       "  1.1532291173934937,\n",
       "  1.0283677577972412,\n",
       "  0.9431338906288147,\n",
       "  0.9340019226074219,\n",
       "  0.7902349829673767,\n",
       "  0.7884779572486877,\n",
       "  0.7104727029800415,\n",
       "  0.6261975169181824,\n",
       "  0.5914120078086853,\n",
       "  0.5155255198478699,\n",
       "  0.46440860629081726,\n",
       "  0.38258686661720276,\n",
       "  0.5507104396820068,\n",
       "  0.37936651706695557],\n",
       " 'val_accuracy': [0.03133903071284294,\n",
       "  0.07977207750082016,\n",
       "  0.056980058550834656,\n",
       "  0.0683760717511177,\n",
       "  0.07977207750082016,\n",
       "  0.12535612285137177,\n",
       "  0.1367521435022354,\n",
       "  0.15954415500164032,\n",
       "  0.23361822962760925,\n",
       "  0.2735042870044708,\n",
       "  0.3504273593425751,\n",
       "  0.3504273593425751,\n",
       "  0.4216524362564087,\n",
       "  0.5270655155181885,\n",
       "  0.5584045648574829,\n",
       "  0.6153846383094788,\n",
       "  0.6296296119689941,\n",
       "  0.6438746452331543,\n",
       "  0.68660968542099,\n",
       "  0.7207977175712585,\n",
       "  0.7350427508354187,\n",
       "  0.7549857497215271,\n",
       "  0.7549857497215271,\n",
       "  0.7777777910232544,\n",
       "  0.7492877244949341,\n",
       "  0.7977207899093628,\n",
       "  0.8176637887954712,\n",
       "  0.8176637887954712,\n",
       "  0.8575498461723328,\n",
       "  0.8945869207382202,\n",
       "  0.8888888955116272,\n",
       "  0.8945869207382202,\n",
       "  0.9173789024353027,\n",
       "  0.8888888955116272,\n",
       "  0.8660968542098999,\n",
       "  0.9316239356994629],\n",
       " 'val_loss': [3.5821049213409424,\n",
       "  3.5155680179595947,\n",
       "  3.5533721446990967,\n",
       "  3.499455690383911,\n",
       "  3.4953224658966064,\n",
       "  3.423954486846924,\n",
       "  3.3422038555145264,\n",
       "  3.3069992065429688,\n",
       "  3.083799123764038,\n",
       "  2.9072179794311523,\n",
       "  2.7832908630371094,\n",
       "  2.5491018295288086,\n",
       "  2.322308301925659,\n",
       "  2.072673797607422,\n",
       "  2.0323753356933594,\n",
       "  1.7139379978179932,\n",
       "  1.679933786392212,\n",
       "  1.582179069519043,\n",
       "  1.4618773460388184,\n",
       "  1.285065770149231,\n",
       "  1.2508232593536377,\n",
       "  1.198211669921875,\n",
       "  1.0612581968307495,\n",
       "  1.0965903997421265,\n",
       "  1.1414889097213745,\n",
       "  0.9979668855667114,\n",
       "  0.9055572152137756,\n",
       "  0.8124337196350098,\n",
       "  0.8337864279747009,\n",
       "  0.6743206977844238,\n",
       "  0.6536304950714111,\n",
       "  0.7209076881408691,\n",
       "  0.5721889138221741,\n",
       "  0.7392507791519165,\n",
       "  0.6725144982337952,\n",
       "  0.4994980990886688]}"
      ]
     },
     "execution_count": 21,
     "metadata": {},
     "output_type": "execute_result"
    }
   ],
   "execution_count": 21
  },
  {
   "cell_type": "code",
   "metadata": {
    "colab": {
     "background_save": true
    },
    "id": "GdF3Ig4ZBU9V",
    "ExecuteTime": {
     "end_time": "2024-05-25T21:03:52.491614Z",
     "start_time": "2024-05-25T21:03:52.472057Z"
    }
   },
   "source": [
    "#Recording History in json\n",
    "import json\n",
    "with open('training_hist.json','w') as f:\n",
    "  json.dump(training_history.history,f)"
   ],
   "outputs": [],
   "execution_count": 22
  },
  {
   "cell_type": "code",
   "metadata": {
    "colab": {
     "background_save": true
    },
    "id": "w8PnAYbuCNhu",
    "outputId": "a43208cd-4a96-4eb6-c8e9-3f80973b03d8",
    "ExecuteTime": {
     "end_time": "2024-05-25T21:03:52.504238Z",
     "start_time": "2024-05-25T21:03:52.496172Z"
    }
   },
   "source": [
    "print(training_history.history.keys())"
   ],
   "outputs": [
    {
     "name": "stdout",
     "output_type": "stream",
     "text": [
      "dict_keys(['accuracy', 'loss', 'val_accuracy', 'val_loss'])\n"
     ]
    }
   ],
   "execution_count": 23
  },
  {
   "cell_type": "markdown",
   "metadata": {
    "id": "ZwTEcIavCjZ8"
   },
   "source": [
    "##Calculating Accuracy of Model Achieved on Validation set"
   ]
  },
  {
   "cell_type": "code",
   "metadata": {
    "colab": {
     "background_save": true
    },
    "id": "Z8Q2t6FXCUzR",
    "outputId": "751796a6-a29d-4372-e182-f1fb118e81b2",
    "ExecuteTime": {
     "end_time": "2024-05-25T21:03:52.517665Z",
     "start_time": "2024-05-25T21:03:52.505763Z"
    }
   },
   "source": [
    "print(\"Validation set Accuracy: {} %\".format(training_history.history['val_accuracy'][-1]*100))"
   ],
   "outputs": [
    {
     "name": "stdout",
     "output_type": "stream",
     "text": [
      "Validation set Accuracy: 93.16239356994629 %\n"
     ]
    }
   ],
   "execution_count": 24
  },
  {
   "cell_type": "markdown",
   "metadata": {
    "id": "qNIMPXKFEZ5B"
   },
   "source": [
    "#Accuracy Visualization"
   ]
  },
  {
   "cell_type": "markdown",
   "metadata": {
    "id": "Mdg9Zjp2EfSa"
   },
   "source": [
    "##Training Visualization"
   ]
  },
  {
   "cell_type": "code",
   "metadata": {
    "colab": {
     "background_save": true
    },
    "id": "fAvJjfBAFNJx",
    "outputId": "700bb990-69e0-4534-dd9d-27c3b72fe242",
    "ExecuteTime": {
     "end_time": "2024-05-25T21:03:52.540847Z",
     "start_time": "2024-05-25T21:03:52.524797Z"
    }
   },
   "source": [
    "training_history.history['accuracy']"
   ],
   "outputs": [
    {
     "data": {
      "text/plain": [
       "[0.022113021463155746,\n",
       " 0.029791153967380524,\n",
       " 0.03562653437256813,\n",
       " 0.037776414304971695,\n",
       " 0.04852579906582832,\n",
       " 0.07125306874513626,\n",
       " 0.0684889405965805,\n",
       " 0.09152334183454514,\n",
       " 0.11394348740577698,\n",
       " 0.13851352035999298,\n",
       " 0.18243242800235748,\n",
       " 0.251842737197876,\n",
       " 0.28961917757987976,\n",
       " 0.3356879651546478,\n",
       " 0.3949631452560425,\n",
       " 0.45178133249282837,\n",
       " 0.48464372754096985,\n",
       " 0.5377764105796814,\n",
       " 0.5681818127632141,\n",
       " 0.6062653660774231,\n",
       " 0.6554054021835327,\n",
       " 0.6756756901741028,\n",
       " 0.7060810923576355,\n",
       " 0.7414004802703857,\n",
       " 0.7539926171302795,\n",
       " 0.7727272510528564,\n",
       " 0.8003685474395752,\n",
       " 0.7994471788406372,\n",
       " 0.8249385952949524,\n",
       " 0.8427518606185913,\n",
       " 0.8636363744735718,\n",
       " 0.8725429773330688,\n",
       " 0.8863636255264282,\n",
       " 0.9011056423187256,\n",
       " 0.8802211284637451,\n",
       " 0.9133906364440918]"
      ]
     },
     "execution_count": 25,
     "metadata": {},
     "output_type": "execute_result"
    }
   ],
   "execution_count": 25
  },
  {
   "cell_type": "code",
   "metadata": {
    "colab": {
     "background_save": true
    },
    "id": "gfKdieuJCt3m",
    "outputId": "c262ec6f-6200-4a2d-d3c3-1d3f778493fa",
    "ExecuteTime": {
     "end_time": "2024-05-25T21:03:53.432828Z",
     "start_time": "2024-05-25T21:03:52.549377Z"
    }
   },
   "source": [
    "epochs = [i for i in range(1,37)]\n",
    "plt.plot(epochs,training_history.history['accuracy'],color='red')\n",
    "plt.xlabel('No. of Epochs')\n",
    "plt.ylabel('Traiining Accuracy')\n",
    "plt.title('Visualization of Training Accuracy Result')\n",
    "plt.show()"
   ],
   "outputs": [
    {
     "data": {
      "text/plain": [
       "<Figure size 640x480 with 1 Axes>"
      ],
      "image/png": "[encoded data removed]"
     },
     "metadata": {},
     "output_type": "display_data"
    }
   ],
   "execution_count": 26
  },
  {
   "cell_type": "markdown",
   "metadata": {
    "id": "FbOcpJL1FvJG"
   },
   "source": [
    "##Validation Accuracy"
   ]
  },
  {
   "cell_type": "code",
   "metadata": {
    "colab": {
     "background_save": true
    },
    "id": "ZXyC9WAJEs-B",
    "outputId": "55c93157-47a5-4784-d665-013124912371",
    "ExecuteTime": {
     "end_time": "2024-05-25T21:03:53.672743Z",
     "start_time": "2024-05-25T21:03:53.443859Z"
    }
   },
   "source": [
    "plt.plot(epochs,training_history.history['val_accuracy'],color='blue')\n",
    "plt.xlabel('No. of Epochs')\n",
    "plt.ylabel('Validation Accuracy')\n",
    "plt.title('Visualization of Validation Accuracy Result')\n",
    "plt.show()"
   ],
   "outputs": [
    {
     "data": {
      "text/plain": [
       "<Figure size 640x480 with 1 Axes>"
      ],
      "image/png": "[encoded data removed]"
     },
     "metadata": {},
     "output_type": "display_data"
    }
   ],
   "execution_count": 27
  },
  {
   "cell_type": "code",
   "metadata": {
    "colab": {
     "background_save": true
    },
    "id": "6mB3DkYFEuRg",
    "ExecuteTime": {
     "end_time": "2024-05-25T21:03:53.678528Z",
     "start_time": "2024-05-25T21:03:53.674695Z"
    }
   },
   "source": [],
   "outputs": [],
   "execution_count": 27
  },
  {
   "cell_type": "markdown",
   "metadata": {
    "id": "IJfYwGbmASaL"
   },
   "source": [
    "##Test set Evaluation"
   ]
  },
  {
   "cell_type": "code",
   "metadata": {
    "colab": {
     "background_save": true
    },
    "id": "fGs_0S4AAUj_",
    "outputId": "d3240687-2d72-4890-bab0-4f3f3fb238a6",
    "ExecuteTime": {
     "end_time": "2024-05-25T21:03:53.991019Z",
     "start_time": "2024-05-25T21:03:53.681041Z"
    }
   },
   "source": [
    "test_set = tf.keras.utils.image_dataset_from_directory(\n",
    "    'archive/test',\n",
    "    labels=\"inferred\",\n",
    "    label_mode=\"categorical\",\n",
    "    class_names=None,\n",
    "    color_mode=\"rgb\",\n",
    "    batch_size=32,\n",
    "    image_size=(128, 128),\n",
    "    shuffle=True,\n",
    "    seed=None,\n",
    "    validation_split=None,\n",
    "    subset=None,\n",
    "    interpolation=\"bilinear\",\n",
    "    follow_links=False,\n",
    "    crop_to_aspect_ratio=False\n",
    ")"
   ],
   "outputs": [
    {
     "name": "stdout",
     "output_type": "stream",
     "text": [
      "Found 363 files belonging to 36 classes.\n"
     ]
    }
   ],
   "execution_count": 28
  },
  {
   "cell_type": "code",
   "metadata": {
    "colab": {
     "background_save": true
    },
    "id": "GdMcF4vnAYuM",
    "ExecuteTime": {
     "end_time": "2024-05-25T21:03:57.710486Z",
     "start_time": "2024-05-25T21:03:53.993026Z"
    }
   },
   "source": [
    "test_loss,test_acc = cnn.evaluate(test_set)\n",
    "print('Test accuracy:', test_acc)"
   ],
   "outputs": [
    {
     "name": "stdout",
     "output_type": "stream",
     "text": [
      "\u001B[1m12/12\u001B[0m \u001B[32m━━━━━━━━━━━━━━━━━━━━\u001B[0m\u001B[37m\u001B[0m \u001B[1m4s\u001B[0m 211ms/step - accuracy: 0.9305 - loss: 0.5672\n",
      "Test accuracy: 0.9283746480941772\n"
     ]
    }
   ],
   "execution_count": 29
  },
  {
   "cell_type": "code",
   "metadata": {
    "colab": {
     "background_save": true
    },
    "id": "MmHXzT0PAiOn",
    "ExecuteTime": {
     "end_time": "2024-05-25T21:03:57.716076Z",
     "start_time": "2024-05-25T21:03:57.712998Z"
    }
   },
   "source": [],
   "outputs": [],
   "execution_count": 29
  }
 ],
 "metadata": {
  "accelerator": "GPU",
  "colab": {
   "gpuType": "T4",
   "provenance": []
  },
  "kernelspec": {
   "display_name": "Python 3 (ipykernel)",
   "language": "python",
   "name": "python3"
  },
  "language_info": {
   "codemirror_mode": {
    "name": "ipython",
    "version": 3
   },
   "file_extension": ".py",
   "mimetype": "text/x-python",
   "name": "python",
   "nbconvert_exporter": "python",
   "pygments_lexer": "ipython3",
   "version": "3.9.12"
  }
 },
 "nbformat": 4,
 "nbformat_minor": 1
}
