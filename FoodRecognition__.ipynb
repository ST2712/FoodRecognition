{
 "cells": [
  {
   "cell_type": "markdown",
   "metadata": {
    "id": "5vUbBvinu8zW"
   },
   "source": [
    "#Importing libraries"
   ]
  },
  {
   "cell_type": "code",
   "metadata": {
    "id": "4JsejDm3uxTS",
    "ExecuteTime": {
     "end_time": "2024-04-30T02:53:47.271925Z",
     "start_time": "2024-04-30T02:53:32.463315Z"
    }
   },
   "source": [
    "import tensorflow as tf\n",
    "import matplotlib.pyplot as plt\n",
    "print(\"Versión de TensorFlow:\", tf.__version__)"
   ],
   "outputs": [
    {
     "name": "stdout",
     "output_type": "stream",
     "text": [
      "Versión de TensorFlow: 2.16.1\n"
     ]
    }
   ],
   "execution_count": 1
  },
  {
   "cell_type": "markdown",
   "metadata": {
    "id": "i2w52yYrvTu9"
   },
   "source": [
    "#Data Preprocessing"
   ]
  },
  {
   "cell_type": "code",
   "metadata": {
    "ExecuteTime": {
     "end_time": "2024-04-30T02:53:49.121097Z",
     "start_time": "2024-04-30T02:53:49.116881Z"
    }
   },
   "source": [
    "print(tf.config.list_physical_devices())"
   ],
   "outputs": [
    {
     "name": "stdout",
     "output_type": "stream",
     "text": [
      "[PhysicalDevice(name='/physical_device:CPU:0', device_type='CPU')]\n"
     ]
    }
   ],
   "execution_count": 2
  },
  {
   "cell_type": "markdown",
   "metadata": {
    "id": "vU3NlcKCwlIZ"
   },
   "source": [
    "##Training Image preprocessing"
   ]
  },
  {
   "cell_type": "code",
   "metadata": {
    "colab": {
     "base_uri": "https://localhost:8080/"
    },
    "id": "Kjoa0oUHvQAv",
    "outputId": "60db20b9-4f21-4a40-d306-cf0de2ac0178",
    "ExecuteTime": {
     "end_time": "2024-04-30T02:53:51.465077Z",
     "start_time": "2024-04-30T02:53:51.249610Z"
    }
   },
   "source": [
    "training_set = tf.keras.utils.image_dataset_from_directory(\n",
    "    'archive/train',\n",
    "    labels=\"inferred\",\n",
    "    label_mode=\"categorical\",\n",
    "    class_names=None,\n",
    "    color_mode=\"rgb\",\n",
    "    batch_size=32,\n",
    "    image_size=(64, 64),\n",
    "    shuffle=True,\n",
    "    seed=None,\n",
    "    validation_split=None,\n",
    "    subset=None,\n",
    "    interpolation=\"bilinear\",\n",
    "    follow_links=False,\n",
    "    crop_to_aspect_ratio=False\n",
    ")"
   ],
   "outputs": [
    {
     "name": "stdout",
     "output_type": "stream",
     "text": [
      "Found 3115 files belonging to 36 classes.\n"
     ]
    }
   ],
   "execution_count": 3
  },
  {
   "cell_type": "markdown",
   "metadata": {
    "id": "nK9Ev76o0mdJ"
   },
   "source": [
    "##Validation Image Preprocessing"
   ]
  },
  {
   "cell_type": "code",
   "metadata": {
    "colab": {
     "base_uri": "https://localhost:8080/"
    },
    "id": "Tocls4IowkNB",
    "outputId": "5c86644c-2308-481d-8c88-5d7807de236e",
    "ExecuteTime": {
     "end_time": "2024-04-30T02:53:52.685772Z",
     "start_time": "2024-04-30T02:53:52.635499Z"
    }
   },
   "source": [
    "validation_set = tf.keras.utils.image_dataset_from_directory(\n",
    "    'archive/validation',\n",
    "    labels=\"inferred\",\n",
    "    label_mode=\"categorical\",\n",
    "    class_names=None,\n",
    "    color_mode=\"rgb\",\n",
    "    batch_size=32,\n",
    "    image_size=(64, 64),\n",
    "    shuffle=True,\n",
    "    seed=None,\n",
    "    validation_split=None,\n",
    "    subset=None,\n",
    "    interpolation=\"bilinear\",\n",
    "    follow_links=False,\n",
    "    crop_to_aspect_ratio=False\n",
    ")"
   ],
   "outputs": [
    {
     "name": "stdout",
     "output_type": "stream",
     "text": [
      "Found 351 files belonging to 36 classes.\n"
     ]
    }
   ],
   "execution_count": 4
  },
  {
   "cell_type": "markdown",
   "metadata": {
    "id": "OQ_TcbD7r2Cw"
   },
   "source": [
    "#Building Model"
   ]
  },
  {
   "cell_type": "code",
   "metadata": {
    "id": "cUMiJrPvsBTU",
    "ExecuteTime": {
     "end_time": "2024-04-30T02:53:54.170987Z",
     "start_time": "2024-04-30T02:53:54.167600Z"
    }
   },
   "source": [
    "cnn = tf.keras.models.Sequential()"
   ],
   "outputs": [],
   "execution_count": 5
  },
  {
   "cell_type": "markdown",
   "metadata": {
    "id": "mgFWYq7ssLkV"
   },
   "source": [
    "##Building Convolution Layer"
   ]
  },
  {
   "cell_type": "code",
   "metadata": {
    "id": "LoaODWuZrHFg",
    "ExecuteTime": {
     "end_time": "2024-04-30T02:53:56.104838Z",
     "start_time": "2024-04-30T02:53:56.074757Z"
    }
   },
   "source": [
    "cnn.add(tf.keras.layers.Conv2D(filters=32,kernel_size=3,padding='same',activation='relu',input_shape=[64,64,3]))\n",
    "cnn.add(tf.keras.layers.Conv2D(filters=32,kernel_size=3,activation='relu'))\n",
    "cnn.add(tf.keras.layers.MaxPool2D(pool_size=2,strides=2))"
   ],
   "outputs": [
    {
     "name": "stderr",
     "output_type": "stream",
     "text": [
      "C:\\Users\\willi\\AppData\\Local\\Programs\\Python\\Python312\\Lib\\site-packages\\keras\\src\\layers\\convolutional\\base_conv.py:107: UserWarning: Do not pass an `input_shape`/`input_dim` argument to a layer. When using Sequential models, prefer using an `Input(shape)` object as the first layer in the model instead.\n",
      "  super().__init__(activity_regularizer=activity_regularizer, **kwargs)\n"
     ]
    }
   ],
   "execution_count": 6
  },
  {
   "cell_type": "code",
   "metadata": {
    "id": "b5-b7yo8mJHq",
    "ExecuteTime": {
     "end_time": "2024-04-30T02:54:03.638271Z",
     "start_time": "2024-04-30T02:54:03.628996Z"
    }
   },
   "source": [
    "cnn.add(tf.keras.layers.Dropout(0.25))"
   ],
   "outputs": [],
   "execution_count": 7
  },
  {
   "cell_type": "code",
   "metadata": {
    "id": "5-potKmKsOr2",
    "ExecuteTime": {
     "end_time": "2024-04-30T02:54:05.346457Z",
     "start_time": "2024-04-30T02:54:05.324595Z"
    }
   },
   "source": [
    "cnn.add(tf.keras.layers.Conv2D(filters=64,kernel_size=3,padding='same',activation='relu'))\n",
    "cnn.add(tf.keras.layers.Conv2D(filters=64,kernel_size=3,activation='relu'))\n",
    "cnn.add(tf.keras.layers.MaxPool2D(pool_size=2,strides=2))"
   ],
   "outputs": [],
   "execution_count": 8
  },
  {
   "cell_type": "code",
   "metadata": {
    "id": "0B29AmGWmZeV",
    "ExecuteTime": {
     "end_time": "2024-04-30T02:54:05.939959Z",
     "start_time": "2024-04-30T02:54:05.930462Z"
    }
   },
   "source": [
    "cnn.add(tf.keras.layers.Dropout(0.25))"
   ],
   "outputs": [],
   "execution_count": 9
  },
  {
   "cell_type": "code",
   "metadata": {
    "id": "NPZ2NGthuTv5",
    "ExecuteTime": {
     "end_time": "2024-04-30T02:54:06.417246Z",
     "start_time": "2024-04-30T02:54:06.408211Z"
    }
   },
   "source": [
    "cnn.add(tf.keras.layers.Flatten())"
   ],
   "outputs": [],
   "execution_count": 10
  },
  {
   "cell_type": "code",
   "metadata": {
    "id": "demjWjcWuc3q",
    "ExecuteTime": {
     "end_time": "2024-04-30T02:54:07.229895Z",
     "start_time": "2024-04-30T02:54:07.202935Z"
    }
   },
   "source": [
    "cnn.add(tf.keras.layers.Dense(units=512,activation='relu'))"
   ],
   "outputs": [],
   "execution_count": 11
  },
  {
   "cell_type": "code",
   "metadata": {
    "id": "_cD4jLBauZtk",
    "ExecuteTime": {
     "end_time": "2024-04-30T02:54:07.771294Z",
     "start_time": "2024-04-30T02:54:07.756504Z"
    }
   },
   "source": [
    "cnn.add(tf.keras.layers.Dense(units=256,activation='relu'))"
   ],
   "outputs": [],
   "execution_count": 12
  },
  {
   "cell_type": "code",
   "metadata": {
    "id": "2onuZO6YuBF3",
    "ExecuteTime": {
     "end_time": "2024-04-30T02:54:08.558286Z",
     "start_time": "2024-04-30T02:54:08.548809Z"
    }
   },
   "source": [
    "cnn.add(tf.keras.layers.Dropout(0.5)) #To avoid overfitting"
   ],
   "outputs": [],
   "execution_count": 13
  },
  {
   "cell_type": "code",
   "metadata": {
    "id": "toAqflkCuwoS",
    "ExecuteTime": {
     "end_time": "2024-04-30T02:54:09.464708Z",
     "start_time": "2024-04-30T02:54:09.450287Z"
    }
   },
   "source": [
    "#Output Layer\n",
    "cnn.add(tf.keras.layers.Dense(units=36,activation='softmax'))"
   ],
   "outputs": [],
   "execution_count": 14
  },
  {
   "cell_type": "markdown",
   "metadata": {
    "id": "sYYdAFZDvt1P"
   },
   "source": [
    "#Compiling and Training Phase"
   ]
  },
  {
   "cell_type": "code",
   "metadata": {
    "id": "yAcyiEfVvVzw",
    "ExecuteTime": {
     "end_time": "2024-04-30T02:54:12.549580Z",
     "start_time": "2024-04-30T02:54:12.540716Z"
    }
   },
   "source": [
    "cnn.compile(optimizer='adam',loss='categorical_crossentropy',metrics=['accuracy'])"
   ],
   "outputs": [],
   "execution_count": 15
  },
  {
   "cell_type": "code",
   "metadata": {
    "colab": {
     "base_uri": "https://localhost:8080/"
    },
    "id": "X0MROJsdlC5Z",
    "outputId": "04310fb5-dfd1-4689-e32a-5560865159a4",
    "ExecuteTime": {
     "end_time": "2024-04-30T02:54:13.710102Z",
     "start_time": "2024-04-30T02:54:13.691934Z"
    }
   },
   "source": [
    "cnn.summary()"
   ],
   "outputs": [
    {
     "data": {
      "text/plain": [
       "\u001B[1mModel: \"sequential\"\u001B[0m\n"
      ],
      "text/html": [
       "<pre style=\"white-space:pre;overflow-x:auto;line-height:normal;font-family:Menlo,'DejaVu Sans Mono',consolas,'Courier New',monospace\"><span style=\"font-weight: bold\">Model: \"sequential\"</span>\n",
       "</pre>\n"
      ]
     },
     "metadata": {},
     "output_type": "display_data"
    },
    {
     "data": {
      "text/plain": [
       "┏━━━━━━━━━━━━━━━━━━━━━━━━━━━━━━━━━┳━━━━━━━━━━━━━━━━━━━━━━━━┳━━━━━━━━━━━━━━━┓\n",
       "┃\u001B[1m \u001B[0m\u001B[1mLayer (type)                   \u001B[0m\u001B[1m \u001B[0m┃\u001B[1m \u001B[0m\u001B[1mOutput Shape          \u001B[0m\u001B[1m \u001B[0m┃\u001B[1m \u001B[0m\u001B[1m      Param #\u001B[0m\u001B[1m \u001B[0m┃\n",
       "┡━━━━━━━━━━━━━━━━━━━━━━━━━━━━━━━━━╇━━━━━━━━━━━━━━━━━━━━━━━━╇━━━━━━━━━━━━━━━┩\n",
       "│ conv2d (\u001B[38;5;33mConv2D\u001B[0m)                 │ (\u001B[38;5;45mNone\u001B[0m, \u001B[38;5;34m64\u001B[0m, \u001B[38;5;34m64\u001B[0m, \u001B[38;5;34m32\u001B[0m)     │           \u001B[38;5;34m896\u001B[0m │\n",
       "├─────────────────────────────────┼────────────────────────┼───────────────┤\n",
       "│ conv2d_1 (\u001B[38;5;33mConv2D\u001B[0m)               │ (\u001B[38;5;45mNone\u001B[0m, \u001B[38;5;34m62\u001B[0m, \u001B[38;5;34m62\u001B[0m, \u001B[38;5;34m32\u001B[0m)     │         \u001B[38;5;34m9,248\u001B[0m │\n",
       "├─────────────────────────────────┼────────────────────────┼───────────────┤\n",
       "│ max_pooling2d (\u001B[38;5;33mMaxPooling2D\u001B[0m)    │ (\u001B[38;5;45mNone\u001B[0m, \u001B[38;5;34m31\u001B[0m, \u001B[38;5;34m31\u001B[0m, \u001B[38;5;34m32\u001B[0m)     │             \u001B[38;5;34m0\u001B[0m │\n",
       "├─────────────────────────────────┼────────────────────────┼───────────────┤\n",
       "│ dropout (\u001B[38;5;33mDropout\u001B[0m)               │ (\u001B[38;5;45mNone\u001B[0m, \u001B[38;5;34m31\u001B[0m, \u001B[38;5;34m31\u001B[0m, \u001B[38;5;34m32\u001B[0m)     │             \u001B[38;5;34m0\u001B[0m │\n",
       "├─────────────────────────────────┼────────────────────────┼───────────────┤\n",
       "│ conv2d_2 (\u001B[38;5;33mConv2D\u001B[0m)               │ (\u001B[38;5;45mNone\u001B[0m, \u001B[38;5;34m31\u001B[0m, \u001B[38;5;34m31\u001B[0m, \u001B[38;5;34m64\u001B[0m)     │        \u001B[38;5;34m18,496\u001B[0m │\n",
       "├─────────────────────────────────┼────────────────────────┼───────────────┤\n",
       "│ conv2d_3 (\u001B[38;5;33mConv2D\u001B[0m)               │ (\u001B[38;5;45mNone\u001B[0m, \u001B[38;5;34m29\u001B[0m, \u001B[38;5;34m29\u001B[0m, \u001B[38;5;34m64\u001B[0m)     │        \u001B[38;5;34m36,928\u001B[0m │\n",
       "├─────────────────────────────────┼────────────────────────┼───────────────┤\n",
       "│ max_pooling2d_1 (\u001B[38;5;33mMaxPooling2D\u001B[0m)  │ (\u001B[38;5;45mNone\u001B[0m, \u001B[38;5;34m14\u001B[0m, \u001B[38;5;34m14\u001B[0m, \u001B[38;5;34m64\u001B[0m)     │             \u001B[38;5;34m0\u001B[0m │\n",
       "├─────────────────────────────────┼────────────────────────┼───────────────┤\n",
       "│ dropout_1 (\u001B[38;5;33mDropout\u001B[0m)             │ (\u001B[38;5;45mNone\u001B[0m, \u001B[38;5;34m14\u001B[0m, \u001B[38;5;34m14\u001B[0m, \u001B[38;5;34m64\u001B[0m)     │             \u001B[38;5;34m0\u001B[0m │\n",
       "├─────────────────────────────────┼────────────────────────┼───────────────┤\n",
       "│ flatten (\u001B[38;5;33mFlatten\u001B[0m)               │ (\u001B[38;5;45mNone\u001B[0m, \u001B[38;5;34m12544\u001B[0m)          │             \u001B[38;5;34m0\u001B[0m │\n",
       "├─────────────────────────────────┼────────────────────────┼───────────────┤\n",
       "│ dense (\u001B[38;5;33mDense\u001B[0m)                   │ (\u001B[38;5;45mNone\u001B[0m, \u001B[38;5;34m512\u001B[0m)            │     \u001B[38;5;34m6,423,040\u001B[0m │\n",
       "├─────────────────────────────────┼────────────────────────┼───────────────┤\n",
       "│ dense_1 (\u001B[38;5;33mDense\u001B[0m)                 │ (\u001B[38;5;45mNone\u001B[0m, \u001B[38;5;34m256\u001B[0m)            │       \u001B[38;5;34m131,328\u001B[0m │\n",
       "├─────────────────────────────────┼────────────────────────┼───────────────┤\n",
       "│ dropout_2 (\u001B[38;5;33mDropout\u001B[0m)             │ (\u001B[38;5;45mNone\u001B[0m, \u001B[38;5;34m256\u001B[0m)            │             \u001B[38;5;34m0\u001B[0m │\n",
       "├─────────────────────────────────┼────────────────────────┼───────────────┤\n",
       "│ dense_2 (\u001B[38;5;33mDense\u001B[0m)                 │ (\u001B[38;5;45mNone\u001B[0m, \u001B[38;5;34m36\u001B[0m)             │         \u001B[38;5;34m9,252\u001B[0m │\n",
       "└─────────────────────────────────┴────────────────────────┴───────────────┘\n"
      ],
      "text/html": [
       "<pre style=\"white-space:pre;overflow-x:auto;line-height:normal;font-family:Menlo,'DejaVu Sans Mono',consolas,'Courier New',monospace\">┏━━━━━━━━━━━━━━━━━━━━━━━━━━━━━━━━━┳━━━━━━━━━━━━━━━━━━━━━━━━┳━━━━━━━━━━━━━━━┓\n",
       "┃<span style=\"font-weight: bold\"> Layer (type)                    </span>┃<span style=\"font-weight: bold\"> Output Shape           </span>┃<span style=\"font-weight: bold\">       Param # </span>┃\n",
       "┡━━━━━━━━━━━━━━━━━━━━━━━━━━━━━━━━━╇━━━━━━━━━━━━━━━━━━━━━━━━╇━━━━━━━━━━━━━━━┩\n",
       "│ conv2d (<span style=\"color: #0087ff; text-decoration-color: #0087ff\">Conv2D</span>)                 │ (<span style=\"color: #00d7ff; text-decoration-color: #00d7ff\">None</span>, <span style=\"color: #00af00; text-decoration-color: #00af00\">64</span>, <span style=\"color: #00af00; text-decoration-color: #00af00\">64</span>, <span style=\"color: #00af00; text-decoration-color: #00af00\">32</span>)     │           <span style=\"color: #00af00; text-decoration-color: #00af00\">896</span> │\n",
       "├─────────────────────────────────┼────────────────────────┼───────────────┤\n",
       "│ conv2d_1 (<span style=\"color: #0087ff; text-decoration-color: #0087ff\">Conv2D</span>)               │ (<span style=\"color: #00d7ff; text-decoration-color: #00d7ff\">None</span>, <span style=\"color: #00af00; text-decoration-color: #00af00\">62</span>, <span style=\"color: #00af00; text-decoration-color: #00af00\">62</span>, <span style=\"color: #00af00; text-decoration-color: #00af00\">32</span>)     │         <span style=\"color: #00af00; text-decoration-color: #00af00\">9,248</span> │\n",
       "├─────────────────────────────────┼────────────────────────┼───────────────┤\n",
       "│ max_pooling2d (<span style=\"color: #0087ff; text-decoration-color: #0087ff\">MaxPooling2D</span>)    │ (<span style=\"color: #00d7ff; text-decoration-color: #00d7ff\">None</span>, <span style=\"color: #00af00; text-decoration-color: #00af00\">31</span>, <span style=\"color: #00af00; text-decoration-color: #00af00\">31</span>, <span style=\"color: #00af00; text-decoration-color: #00af00\">32</span>)     │             <span style=\"color: #00af00; text-decoration-color: #00af00\">0</span> │\n",
       "├─────────────────────────────────┼────────────────────────┼───────────────┤\n",
       "│ dropout (<span style=\"color: #0087ff; text-decoration-color: #0087ff\">Dropout</span>)               │ (<span style=\"color: #00d7ff; text-decoration-color: #00d7ff\">None</span>, <span style=\"color: #00af00; text-decoration-color: #00af00\">31</span>, <span style=\"color: #00af00; text-decoration-color: #00af00\">31</span>, <span style=\"color: #00af00; text-decoration-color: #00af00\">32</span>)     │             <span style=\"color: #00af00; text-decoration-color: #00af00\">0</span> │\n",
       "├─────────────────────────────────┼────────────────────────┼───────────────┤\n",
       "│ conv2d_2 (<span style=\"color: #0087ff; text-decoration-color: #0087ff\">Conv2D</span>)               │ (<span style=\"color: #00d7ff; text-decoration-color: #00d7ff\">None</span>, <span style=\"color: #00af00; text-decoration-color: #00af00\">31</span>, <span style=\"color: #00af00; text-decoration-color: #00af00\">31</span>, <span style=\"color: #00af00; text-decoration-color: #00af00\">64</span>)     │        <span style=\"color: #00af00; text-decoration-color: #00af00\">18,496</span> │\n",
       "├─────────────────────────────────┼────────────────────────┼───────────────┤\n",
       "│ conv2d_3 (<span style=\"color: #0087ff; text-decoration-color: #0087ff\">Conv2D</span>)               │ (<span style=\"color: #00d7ff; text-decoration-color: #00d7ff\">None</span>, <span style=\"color: #00af00; text-decoration-color: #00af00\">29</span>, <span style=\"color: #00af00; text-decoration-color: #00af00\">29</span>, <span style=\"color: #00af00; text-decoration-color: #00af00\">64</span>)     │        <span style=\"color: #00af00; text-decoration-color: #00af00\">36,928</span> │\n",
       "├─────────────────────────────────┼────────────────────────┼───────────────┤\n",
       "│ max_pooling2d_1 (<span style=\"color: #0087ff; text-decoration-color: #0087ff\">MaxPooling2D</span>)  │ (<span style=\"color: #00d7ff; text-decoration-color: #00d7ff\">None</span>, <span style=\"color: #00af00; text-decoration-color: #00af00\">14</span>, <span style=\"color: #00af00; text-decoration-color: #00af00\">14</span>, <span style=\"color: #00af00; text-decoration-color: #00af00\">64</span>)     │             <span style=\"color: #00af00; text-decoration-color: #00af00\">0</span> │\n",
       "├─────────────────────────────────┼────────────────────────┼───────────────┤\n",
       "│ dropout_1 (<span style=\"color: #0087ff; text-decoration-color: #0087ff\">Dropout</span>)             │ (<span style=\"color: #00d7ff; text-decoration-color: #00d7ff\">None</span>, <span style=\"color: #00af00; text-decoration-color: #00af00\">14</span>, <span style=\"color: #00af00; text-decoration-color: #00af00\">14</span>, <span style=\"color: #00af00; text-decoration-color: #00af00\">64</span>)     │             <span style=\"color: #00af00; text-decoration-color: #00af00\">0</span> │\n",
       "├─────────────────────────────────┼────────────────────────┼───────────────┤\n",
       "│ flatten (<span style=\"color: #0087ff; text-decoration-color: #0087ff\">Flatten</span>)               │ (<span style=\"color: #00d7ff; text-decoration-color: #00d7ff\">None</span>, <span style=\"color: #00af00; text-decoration-color: #00af00\">12544</span>)          │             <span style=\"color: #00af00; text-decoration-color: #00af00\">0</span> │\n",
       "├─────────────────────────────────┼────────────────────────┼───────────────┤\n",
       "│ dense (<span style=\"color: #0087ff; text-decoration-color: #0087ff\">Dense</span>)                   │ (<span style=\"color: #00d7ff; text-decoration-color: #00d7ff\">None</span>, <span style=\"color: #00af00; text-decoration-color: #00af00\">512</span>)            │     <span style=\"color: #00af00; text-decoration-color: #00af00\">6,423,040</span> │\n",
       "├─────────────────────────────────┼────────────────────────┼───────────────┤\n",
       "│ dense_1 (<span style=\"color: #0087ff; text-decoration-color: #0087ff\">Dense</span>)                 │ (<span style=\"color: #00d7ff; text-decoration-color: #00d7ff\">None</span>, <span style=\"color: #00af00; text-decoration-color: #00af00\">256</span>)            │       <span style=\"color: #00af00; text-decoration-color: #00af00\">131,328</span> │\n",
       "├─────────────────────────────────┼────────────────────────┼───────────────┤\n",
       "│ dropout_2 (<span style=\"color: #0087ff; text-decoration-color: #0087ff\">Dropout</span>)             │ (<span style=\"color: #00d7ff; text-decoration-color: #00d7ff\">None</span>, <span style=\"color: #00af00; text-decoration-color: #00af00\">256</span>)            │             <span style=\"color: #00af00; text-decoration-color: #00af00\">0</span> │\n",
       "├─────────────────────────────────┼────────────────────────┼───────────────┤\n",
       "│ dense_2 (<span style=\"color: #0087ff; text-decoration-color: #0087ff\">Dense</span>)                 │ (<span style=\"color: #00d7ff; text-decoration-color: #00d7ff\">None</span>, <span style=\"color: #00af00; text-decoration-color: #00af00\">36</span>)             │         <span style=\"color: #00af00; text-decoration-color: #00af00\">9,252</span> │\n",
       "└─────────────────────────────────┴────────────────────────┴───────────────┘\n",
       "</pre>\n"
      ]
     },
     "metadata": {},
     "output_type": "display_data"
    },
    {
     "data": {
      "text/plain": [
       "\u001B[1m Total params: \u001B[0m\u001B[38;5;34m6,629,188\u001B[0m (25.29 MB)\n"
      ],
      "text/html": [
       "<pre style=\"white-space:pre;overflow-x:auto;line-height:normal;font-family:Menlo,'DejaVu Sans Mono',consolas,'Courier New',monospace\"><span style=\"font-weight: bold\"> Total params: </span><span style=\"color: #00af00; text-decoration-color: #00af00\">6,629,188</span> (25.29 MB)\n",
       "</pre>\n"
      ]
     },
     "metadata": {},
     "output_type": "display_data"
    },
    {
     "data": {
      "text/plain": [
       "\u001B[1m Trainable params: \u001B[0m\u001B[38;5;34m6,629,188\u001B[0m (25.29 MB)\n"
      ],
      "text/html": [
       "<pre style=\"white-space:pre;overflow-x:auto;line-height:normal;font-family:Menlo,'DejaVu Sans Mono',consolas,'Courier New',monospace\"><span style=\"font-weight: bold\"> Trainable params: </span><span style=\"color: #00af00; text-decoration-color: #00af00\">6,629,188</span> (25.29 MB)\n",
       "</pre>\n"
      ]
     },
     "metadata": {},
     "output_type": "display_data"
    },
    {
     "data": {
      "text/plain": [
       "\u001B[1m Non-trainable params: \u001B[0m\u001B[38;5;34m0\u001B[0m (0.00 B)\n"
      ],
      "text/html": [
       "<pre style=\"white-space:pre;overflow-x:auto;line-height:normal;font-family:Menlo,'DejaVu Sans Mono',consolas,'Courier New',monospace\"><span style=\"font-weight: bold\"> Non-trainable params: </span><span style=\"color: #00af00; text-decoration-color: #00af00\">0</span> (0.00 B)\n",
       "</pre>\n"
      ]
     },
     "metadata": {},
     "output_type": "display_data"
    }
   ],
   "execution_count": 16
  },
  {
   "cell_type": "code",
   "metadata": {
    "colab": {
     "background_save": true,
     "base_uri": "https://localhost:8080/"
    },
    "id": "K3W4dNUrvxIw",
    "outputId": "5af8729f-6369-48f8-b5b7-50eefb02e423",
    "ExecuteTime": {
     "end_time": "2024-04-30T03:06:53.202379Z",
     "start_time": "2024-04-30T03:00:43.216838Z"
    }
   },
   "source": [
    "training_history = cnn.fit(x=training_set,validation_data=validation_set,epochs=32)"
   ],
   "outputs": [
    {
     "name": "stdout",
     "output_type": "stream",
     "text": [
      "Epoch 1/32\n",
      "\u001B[1m98/98\u001B[0m \u001B[32m━━━━━━━━━━━━━━━━━━━━\u001B[0m\u001B[37m\u001B[0m \u001B[1m11s\u001B[0m 115ms/step - accuracy: 0.9265 - loss: 0.2422 - val_accuracy: 0.9516 - val_loss: 0.2454\n",
      "Epoch 2/32\n",
      "\u001B[1m98/98\u001B[0m \u001B[32m━━━━━━━━━━━━━━━━━━━━\u001B[0m\u001B[37m\u001B[0m \u001B[1m11s\u001B[0m 112ms/step - accuracy: 0.9328 - loss: 0.2233 - val_accuracy: 0.9487 - val_loss: 0.2399\n",
      "Epoch 3/32\n",
      "\u001B[1m98/98\u001B[0m \u001B[32m━━━━━━━━━━━━━━━━━━━━\u001B[0m\u001B[37m\u001B[0m \u001B[1m11s\u001B[0m 115ms/step - accuracy: 0.9471 - loss: 0.1884 - val_accuracy: 0.9430 - val_loss: 0.2449\n",
      "Epoch 4/32\n",
      "\u001B[1m98/98\u001B[0m \u001B[32m━━━━━━━━━━━━━━━━━━━━\u001B[0m\u001B[37m\u001B[0m \u001B[1m11s\u001B[0m 115ms/step - accuracy: 0.9473 - loss: 0.1733 - val_accuracy: 0.9487 - val_loss: 0.3407\n",
      "Epoch 5/32\n",
      "\u001B[1m98/98\u001B[0m \u001B[32m━━━━━━━━━━━━━━━━━━━━\u001B[0m\u001B[37m\u001B[0m \u001B[1m11s\u001B[0m 116ms/step - accuracy: 0.9358 - loss: 0.2193 - val_accuracy: 0.9288 - val_loss: 0.3570\n",
      "Epoch 6/32\n",
      "\u001B[1m98/98\u001B[0m \u001B[32m━━━━━━━━━━━━━━━━━━━━\u001B[0m\u001B[37m\u001B[0m \u001B[1m12s\u001B[0m 117ms/step - accuracy: 0.9311 - loss: 0.2497 - val_accuracy: 0.9487 - val_loss: 0.2146\n",
      "Epoch 7/32\n",
      "\u001B[1m98/98\u001B[0m \u001B[32m━━━━━━━━━━━━━━━━━━━━\u001B[0m\u001B[37m\u001B[0m \u001B[1m12s\u001B[0m 115ms/step - accuracy: 0.9472 - loss: 0.1712 - val_accuracy: 0.9402 - val_loss: 0.3172\n",
      "Epoch 8/32\n",
      "\u001B[1m98/98\u001B[0m \u001B[32m━━━━━━━━━━━━━━━━━━━━\u001B[0m\u001B[37m\u001B[0m \u001B[1m12s\u001B[0m 115ms/step - accuracy: 0.9290 - loss: 0.2858 - val_accuracy: 0.9459 - val_loss: 0.2389\n",
      "Epoch 9/32\n",
      "\u001B[1m98/98\u001B[0m \u001B[32m━━━━━━━━━━━━━━━━━━━━\u001B[0m\u001B[37m\u001B[0m \u001B[1m12s\u001B[0m 114ms/step - accuracy: 0.9449 - loss: 0.2079 - val_accuracy: 0.9459 - val_loss: 0.2710\n",
      "Epoch 10/32\n",
      "\u001B[1m98/98\u001B[0m \u001B[32m━━━━━━━━━━━━━━━━━━━━\u001B[0m\u001B[37m\u001B[0m \u001B[1m12s\u001B[0m 116ms/step - accuracy: 0.9554 - loss: 0.1578 - val_accuracy: 0.9459 - val_loss: 0.3385\n",
      "Epoch 11/32\n",
      "\u001B[1m98/98\u001B[0m \u001B[32m━━━━━━━━━━━━━━━━━━━━\u001B[0m\u001B[37m\u001B[0m \u001B[1m12s\u001B[0m 116ms/step - accuracy: 0.9301 - loss: 0.2243 - val_accuracy: 0.9487 - val_loss: 0.2729\n",
      "Epoch 12/32\n",
      "\u001B[1m98/98\u001B[0m \u001B[32m━━━━━━━━━━━━━━━━━━━━\u001B[0m\u001B[37m\u001B[0m \u001B[1m12s\u001B[0m 117ms/step - accuracy: 0.9675 - loss: 0.1344 - val_accuracy: 0.9402 - val_loss: 0.2889\n",
      "Epoch 13/32\n",
      "\u001B[1m98/98\u001B[0m \u001B[32m━━━━━━━━━━━━━━━━━━━━\u001B[0m\u001B[37m\u001B[0m \u001B[1m12s\u001B[0m 118ms/step - accuracy: 0.9542 - loss: 0.1512 - val_accuracy: 0.9430 - val_loss: 0.2847\n",
      "Epoch 14/32\n",
      "\u001B[1m98/98\u001B[0m \u001B[32m━━━━━━━━━━━━━━━━━━━━\u001B[0m\u001B[37m\u001B[0m \u001B[1m12s\u001B[0m 118ms/step - accuracy: 0.9697 - loss: 0.1098 - val_accuracy: 0.9373 - val_loss: 0.3148\n",
      "Epoch 15/32\n",
      "\u001B[1m98/98\u001B[0m \u001B[32m━━━━━━━━━━━━━━━━━━━━\u001B[0m\u001B[37m\u001B[0m \u001B[1m12s\u001B[0m 118ms/step - accuracy: 0.9488 - loss: 0.1819 - val_accuracy: 0.9459 - val_loss: 0.3104\n",
      "Epoch 16/32\n",
      "\u001B[1m98/98\u001B[0m \u001B[32m━━━━━━━━━━━━━━━━━━━━\u001B[0m\u001B[37m\u001B[0m \u001B[1m12s\u001B[0m 118ms/step - accuracy: 0.9577 - loss: 0.1562 - val_accuracy: 0.9402 - val_loss: 0.2958\n",
      "Epoch 17/32\n",
      "\u001B[1m98/98\u001B[0m \u001B[32m━━━━━━━━━━━━━━━━━━━━\u001B[0m\u001B[37m\u001B[0m \u001B[1m12s\u001B[0m 117ms/step - accuracy: 0.9271 - loss: 0.2855 - val_accuracy: 0.9459 - val_loss: 0.3097\n",
      "Epoch 18/32\n",
      "\u001B[1m98/98\u001B[0m \u001B[32m━━━━━━━━━━━━━━━━━━━━\u001B[0m\u001B[37m\u001B[0m \u001B[1m12s\u001B[0m 115ms/step - accuracy: 0.9541 - loss: 0.1649 - val_accuracy: 0.9459 - val_loss: 0.2738\n",
      "Epoch 19/32\n",
      "\u001B[1m98/98\u001B[0m \u001B[32m━━━━━━━━━━━━━━━━━━━━\u001B[0m\u001B[37m\u001B[0m \u001B[1m12s\u001B[0m 118ms/step - accuracy: 0.9527 - loss: 0.1553 - val_accuracy: 0.9430 - val_loss: 0.2667\n",
      "Epoch 20/32\n",
      "\u001B[1m98/98\u001B[0m \u001B[32m━━━━━━━━━━━━━━━━━━━━\u001B[0m\u001B[37m\u001B[0m \u001B[1m12s\u001B[0m 116ms/step - accuracy: 0.9665 - loss: 0.1168 - val_accuracy: 0.9402 - val_loss: 0.3007\n",
      "Epoch 21/32\n",
      "\u001B[1m98/98\u001B[0m \u001B[32m━━━━━━━━━━━━━━━━━━━━\u001B[0m\u001B[37m\u001B[0m \u001B[1m12s\u001B[0m 117ms/step - accuracy: 0.9648 - loss: 0.1131 - val_accuracy: 0.9487 - val_loss: 0.2270\n",
      "Epoch 22/32\n",
      "\u001B[1m98/98\u001B[0m \u001B[32m━━━━━━━━━━━━━━━━━━━━\u001B[0m\u001B[37m\u001B[0m \u001B[1m11s\u001B[0m 113ms/step - accuracy: 0.9603 - loss: 0.1288 - val_accuracy: 0.9544 - val_loss: 0.2642\n",
      "Epoch 23/32\n",
      "\u001B[1m98/98\u001B[0m \u001B[32m━━━━━━━━━━━━━━━━━━━━\u001B[0m\u001B[37m\u001B[0m \u001B[1m12s\u001B[0m 116ms/step - accuracy: 0.9665 - loss: 0.1259 - val_accuracy: 0.9373 - val_loss: 0.3168\n",
      "Epoch 24/32\n",
      "\u001B[1m98/98\u001B[0m \u001B[32m━━━━━━━━━━━━━━━━━━━━\u001B[0m\u001B[37m\u001B[0m \u001B[1m11s\u001B[0m 116ms/step - accuracy: 0.9204 - loss: 0.3510 - val_accuracy: 0.9601 - val_loss: 0.2676\n",
      "Epoch 25/32\n",
      "\u001B[1m98/98\u001B[0m \u001B[32m━━━━━━━━━━━━━━━━━━━━\u001B[0m\u001B[37m\u001B[0m \u001B[1m11s\u001B[0m 114ms/step - accuracy: 0.9600 - loss: 0.1463 - val_accuracy: 0.9601 - val_loss: 0.2330\n",
      "Epoch 26/32\n",
      "\u001B[1m98/98\u001B[0m \u001B[32m━━━━━━━━━━━━━━━━━━━━\u001B[0m\u001B[37m\u001B[0m \u001B[1m11s\u001B[0m 116ms/step - accuracy: 0.9586 - loss: 0.1470 - val_accuracy: 0.9630 - val_loss: 0.2542\n",
      "Epoch 27/32\n",
      "\u001B[1m98/98\u001B[0m \u001B[32m━━━━━━━━━━━━━━━━━━━━\u001B[0m\u001B[37m\u001B[0m \u001B[1m12s\u001B[0m 115ms/step - accuracy: 0.9648 - loss: 0.1235 - val_accuracy: 0.9516 - val_loss: 0.3076\n",
      "Epoch 28/32\n",
      "\u001B[1m98/98\u001B[0m \u001B[32m━━━━━━━━━━━━━━━━━━━━\u001B[0m\u001B[37m\u001B[0m \u001B[1m11s\u001B[0m 115ms/step - accuracy: 0.9553 - loss: 0.1570 - val_accuracy: 0.9630 - val_loss: 0.2563\n",
      "Epoch 29/32\n",
      "\u001B[1m98/98\u001B[0m \u001B[32m━━━━━━━━━━━━━━━━━━━━\u001B[0m\u001B[37m\u001B[0m \u001B[1m12s\u001B[0m 117ms/step - accuracy: 0.9516 - loss: 0.1922 - val_accuracy: 0.9487 - val_loss: 0.3047\n",
      "Epoch 30/32\n",
      "\u001B[1m98/98\u001B[0m \u001B[32m━━━━━━━━━━━━━━━━━━━━\u001B[0m\u001B[37m\u001B[0m \u001B[1m12s\u001B[0m 116ms/step - accuracy: 0.9590 - loss: 0.1562 - val_accuracy: 0.9487 - val_loss: 0.2887\n",
      "Epoch 31/32\n",
      "\u001B[1m98/98\u001B[0m \u001B[32m━━━━━━━━━━━━━━━━━━━━\u001B[0m\u001B[37m\u001B[0m \u001B[1m12s\u001B[0m 118ms/step - accuracy: 0.9557 - loss: 0.1283 - val_accuracy: 0.9516 - val_loss: 0.2665\n",
      "Epoch 32/32\n",
      "\u001B[1m98/98\u001B[0m \u001B[32m━━━━━━━━━━━━━━━━━━━━\u001B[0m\u001B[37m\u001B[0m \u001B[1m12s\u001B[0m 117ms/step - accuracy: 0.9664 - loss: 0.1056 - val_accuracy: 0.9573 - val_loss: 0.2620\n"
     ]
    }
   ],
   "execution_count": 18
  },
  {
   "cell_type": "markdown",
   "metadata": {
    "id": "19E3mwj1phoW"
   },
   "source": [
    "##Evaluating Model"
   ]
  },
  {
   "cell_type": "code",
   "metadata": {
    "colab": {
     "background_save": true
    },
    "id": "iY6o3uxjpgl5",
    "outputId": "c9d1a65c-3eb8-499f-98d9-f2eae28c6a7b",
    "ExecuteTime": {
     "end_time": "2024-04-30T03:07:41.946786Z",
     "start_time": "2024-04-30T03:07:37.152491Z"
    }
   },
   "source": [
    "#Training set Accuracy\n",
    "train_loss, train_acc = cnn.evaluate(training_set)\n",
    "print('Training accuracy:', train_acc)"
   ],
   "outputs": [
    {
     "name": "stdout",
     "output_type": "stream",
     "text": [
      "\u001B[1m98/98\u001B[0m \u001B[32m━━━━━━━━━━━━━━━━━━━━\u001B[0m\u001B[37m\u001B[0m \u001B[1m5s\u001B[0m 48ms/step - accuracy: 0.9927 - loss: 0.0177\n",
      "Training accuracy: 0.9919742941856384\n"
     ]
    }
   ],
   "execution_count": 19
  },
  {
   "cell_type": "code",
   "metadata": {
    "colab": {
     "background_save": true
    },
    "id": "5SaQgd7bpgwl",
    "outputId": "1b22b1d4-b691-4506-cca7-694a840b2d4a",
    "ExecuteTime": {
     "end_time": "2024-04-30T03:07:44.701916Z",
     "start_time": "2024-04-30T03:07:43.980296Z"
    }
   },
   "source": [
    "#Validation set Accuracy\n",
    "val_loss, val_acc = cnn.evaluate(validation_set)\n",
    "print('Validation accuracy:', val_acc)"
   ],
   "outputs": [
    {
     "name": "stdout",
     "output_type": "stream",
     "text": [
      "\u001B[1m11/11\u001B[0m \u001B[32m━━━━━━━━━━━━━━━━━━━━\u001B[0m\u001B[37m\u001B[0m \u001B[1m1s\u001B[0m 43ms/step - accuracy: 0.9708 - loss: 0.1806\n",
      "Validation accuracy: 0.9572649598121643\n"
     ]
    }
   ],
   "execution_count": 20
  },
  {
   "cell_type": "markdown",
   "metadata": {
    "id": "Qxp0xsjVBGec"
   },
   "source": [
    "##Saving Model"
   ]
  },
  {
   "cell_type": "code",
   "metadata": {
    "colab": {
     "background_save": true
    },
    "id": "EEUrBzCrxKt_",
    "outputId": "8096794b-cf40-4a5f-bc1d-66bf3ab68905",
    "ExecuteTime": {
     "end_time": "2024-04-30T03:07:49.697038Z",
     "start_time": "2024-04-30T03:07:49.580941Z"
    }
   },
   "source": [
    "cnn.save('trained_model.h5')"
   ],
   "outputs": [
    {
     "name": "stderr",
     "output_type": "stream",
     "text": [
      "WARNING:absl:You are saving your model as an HDF5 file via `model.save()` or `keras.saving.save_model(model)`. This file format is considered legacy. We recommend using instead the native Keras format, e.g. `model.save('my_model.keras')` or `keras.saving.save_model(model, 'my_model.keras')`. \n"
     ]
    }
   ],
   "execution_count": 21
  },
  {
   "cell_type": "code",
   "metadata": {
    "colab": {
     "background_save": true
    },
    "id": "BM-sILNMBwh1",
    "outputId": "92a51a99-9651-4e02-e1de-ddfb9fa995f9",
    "ExecuteTime": {
     "end_time": "2024-04-30T03:07:52.350540Z",
     "start_time": "2024-04-30T03:07:52.345314Z"
    }
   },
   "source": [
    "training_history.history #Return Dictionary of history"
   ],
   "outputs": [
    {
     "data": {
      "text/plain": [
       "{'accuracy': [0.9245585799217224,\n",
       "  0.9351524710655212,\n",
       "  0.9512038230895996,\n",
       "  0.9428571462631226,\n",
       "  0.9316211938858032,\n",
       "  0.9393258690834045,\n",
       "  0.9492776989936829,\n",
       "  0.9232744574546814,\n",
       "  0.9457463622093201,\n",
       "  0.9470304846763611,\n",
       "  0.932584285736084,\n",
       "  0.9621188044548035,\n",
       "  0.9569823145866394,\n",
       "  0.965008020401001,\n",
       "  0.9444622993469238,\n",
       "  0.9512038230895996,\n",
       "  0.9274478554725647,\n",
       "  0.9505618214607239,\n",
       "  0.9512038230895996,\n",
       "  0.96372389793396,\n",
       "  0.9611557126045227,\n",
       "  0.9582664370536804,\n",
       "  0.9573033452033997,\n",
       "  0.9393258690834045,\n",
       "  0.9579454064369202,\n",
       "  0.9560192823410034,\n",
       "  0.9634028673171997,\n",
       "  0.9560192823410034,\n",
       "  0.9434992074966431,\n",
       "  0.9576243758201599,\n",
       "  0.9537720680236816,\n",
       "  0.96982342004776],\n",
       " 'loss': [0.25215598940849304,\n",
       "  0.22238901257514954,\n",
       "  0.16494542360305786,\n",
       "  0.18345743417739868,\n",
       "  0.23659852147102356,\n",
       "  0.21297761797904968,\n",
       "  0.18087828159332275,\n",
       "  0.2936154901981354,\n",
       "  0.18717938661575317,\n",
       "  0.1733849048614502,\n",
       "  0.22654925286769867,\n",
       "  0.14525382220745087,\n",
       "  0.13682198524475098,\n",
       "  0.12465904653072357,\n",
       "  0.20234006643295288,\n",
       "  0.18626785278320312,\n",
       "  0.2635171413421631,\n",
       "  0.18732036650180817,\n",
       "  0.17139388620853424,\n",
       "  0.12886130809783936,\n",
       "  0.1281234323978424,\n",
       "  0.13660337030887604,\n",
       "  0.17150148749351501,\n",
       "  0.2488873153924942,\n",
       "  0.1557285040616989,\n",
       "  0.1534416526556015,\n",
       "  0.1308821588754654,\n",
       "  0.15229114890098572,\n",
       "  0.2225750982761383,\n",
       "  0.15167249739170074,\n",
       "  0.13967907428741455,\n",
       "  0.11535517126321793],\n",
       " 'val_accuracy': [0.9515669345855713,\n",
       "  0.9487179517745972,\n",
       "  0.9430199265480042,\n",
       "  0.9487179517745972,\n",
       "  0.9287749528884888,\n",
       "  0.9487179517745972,\n",
       "  0.94017094373703,\n",
       "  0.945868968963623,\n",
       "  0.945868968963623,\n",
       "  0.945868968963623,\n",
       "  0.9487179517745972,\n",
       "  0.94017094373703,\n",
       "  0.9430199265480042,\n",
       "  0.9373219609260559,\n",
       "  0.945868968963623,\n",
       "  0.94017094373703,\n",
       "  0.945868968963623,\n",
       "  0.945868968963623,\n",
       "  0.9430199265480042,\n",
       "  0.94017094373703,\n",
       "  0.9487179517745972,\n",
       "  0.9544159770011902,\n",
       "  0.9373219609260559,\n",
       "  0.9601139426231384,\n",
       "  0.9601139426231384,\n",
       "  0.9629629850387573,\n",
       "  0.9515669345855713,\n",
       "  0.9629629850387573,\n",
       "  0.9487179517745972,\n",
       "  0.9487179517745972,\n",
       "  0.9515669345855713,\n",
       "  0.9572649598121643],\n",
       " 'val_loss': [0.24539165198802948,\n",
       "  0.23993872106075287,\n",
       "  0.24491724371910095,\n",
       "  0.3407090902328491,\n",
       "  0.3569605350494385,\n",
       "  0.2146444320678711,\n",
       "  0.3172341287136078,\n",
       "  0.2389044314622879,\n",
       "  0.271025687456131,\n",
       "  0.3384789526462555,\n",
       "  0.2728893756866455,\n",
       "  0.2889057695865631,\n",
       "  0.2847318947315216,\n",
       "  0.3148217797279358,\n",
       "  0.310373991727829,\n",
       "  0.295791894197464,\n",
       "  0.309664785861969,\n",
       "  0.273800790309906,\n",
       "  0.2667278051376343,\n",
       "  0.3006889224052429,\n",
       "  0.2270384281873703,\n",
       "  0.2642163932323456,\n",
       "  0.3168068826198578,\n",
       "  0.26758694648742676,\n",
       "  0.23299597203731537,\n",
       "  0.2542303800582886,\n",
       "  0.3075971007347107,\n",
       "  0.25628283619880676,\n",
       "  0.30470240116119385,\n",
       "  0.2886648178100586,\n",
       "  0.2664791941642761,\n",
       "  0.262041300535202]}"
      ]
     },
     "execution_count": 22,
     "metadata": {},
     "output_type": "execute_result"
    }
   ],
   "execution_count": 22
  },
  {
   "cell_type": "code",
   "metadata": {
    "colab": {
     "background_save": true
    },
    "id": "GdF3Ig4ZBU9V",
    "ExecuteTime": {
     "end_time": "2024-04-30T03:07:54.739945Z",
     "start_time": "2024-04-30T03:07:54.735469Z"
    }
   },
   "source": [
    "#Recording History in json\n",
    "import json\n",
    "with open('training_hist.json','w') as f:\n",
    "  json.dump(training_history.history,f)"
   ],
   "outputs": [],
   "execution_count": 23
  },
  {
   "cell_type": "code",
   "metadata": {
    "colab": {
     "background_save": true
    },
    "id": "w8PnAYbuCNhu",
    "outputId": "a43208cd-4a96-4eb6-c8e9-3f80973b03d8",
    "ExecuteTime": {
     "end_time": "2024-04-30T03:07:55.809692Z",
     "start_time": "2024-04-30T03:07:55.803083Z"
    }
   },
   "source": [
    "print(training_history.history.keys())"
   ],
   "outputs": [
    {
     "name": "stdout",
     "output_type": "stream",
     "text": [
      "dict_keys(['accuracy', 'loss', 'val_accuracy', 'val_loss'])\n"
     ]
    }
   ],
   "execution_count": 24
  },
  {
   "cell_type": "markdown",
   "metadata": {
    "id": "ZwTEcIavCjZ8"
   },
   "source": [
    "##Calculating Accuracy of Model Achieved on Validation set"
   ]
  },
  {
   "cell_type": "code",
   "metadata": {
    "colab": {
     "background_save": true
    },
    "id": "Z8Q2t6FXCUzR",
    "outputId": "751796a6-a29d-4372-e182-f1fb118e81b2",
    "ExecuteTime": {
     "end_time": "2024-04-30T03:07:59.108097Z",
     "start_time": "2024-04-30T03:07:59.104158Z"
    }
   },
   "source": [
    "print(\"Validation set Accuracy: {} %\".format(training_history.history['val_accuracy'][-1]*100))"
   ],
   "outputs": [
    {
     "name": "stdout",
     "output_type": "stream",
     "text": [
      "Validation set Accuracy: 95.72649598121643 %\n"
     ]
    }
   ],
   "execution_count": 25
  },
  {
   "cell_type": "markdown",
   "metadata": {
    "id": "qNIMPXKFEZ5B"
   },
   "source": [
    "#Accuracy Visualization"
   ]
  },
  {
   "cell_type": "markdown",
   "metadata": {
    "id": "Mdg9Zjp2EfSa"
   },
   "source": [
    "##Training Visualization"
   ]
  },
  {
   "cell_type": "code",
   "metadata": {
    "colab": {
     "background_save": true
    },
    "id": "fAvJjfBAFNJx",
    "outputId": "700bb990-69e0-4534-dd9d-27c3b72fe242",
    "ExecuteTime": {
     "end_time": "2024-04-30T03:08:01.525923Z",
     "start_time": "2024-04-30T03:08:01.521346Z"
    }
   },
   "source": [
    "training_history.history['accuracy']"
   ],
   "outputs": [
    {
     "data": {
      "text/plain": [
       "[0.9245585799217224,\n",
       " 0.9351524710655212,\n",
       " 0.9512038230895996,\n",
       " 0.9428571462631226,\n",
       " 0.9316211938858032,\n",
       " 0.9393258690834045,\n",
       " 0.9492776989936829,\n",
       " 0.9232744574546814,\n",
       " 0.9457463622093201,\n",
       " 0.9470304846763611,\n",
       " 0.932584285736084,\n",
       " 0.9621188044548035,\n",
       " 0.9569823145866394,\n",
       " 0.965008020401001,\n",
       " 0.9444622993469238,\n",
       " 0.9512038230895996,\n",
       " 0.9274478554725647,\n",
       " 0.9505618214607239,\n",
       " 0.9512038230895996,\n",
       " 0.96372389793396,\n",
       " 0.9611557126045227,\n",
       " 0.9582664370536804,\n",
       " 0.9573033452033997,\n",
       " 0.9393258690834045,\n",
       " 0.9579454064369202,\n",
       " 0.9560192823410034,\n",
       " 0.9634028673171997,\n",
       " 0.9560192823410034,\n",
       " 0.9434992074966431,\n",
       " 0.9576243758201599,\n",
       " 0.9537720680236816,\n",
       " 0.96982342004776]"
      ]
     },
     "execution_count": 26,
     "metadata": {},
     "output_type": "execute_result"
    }
   ],
   "execution_count": 26
  },
  {
   "cell_type": "code",
   "metadata": {
    "colab": {
     "background_save": true
    },
    "id": "gfKdieuJCt3m",
    "outputId": "c262ec6f-6200-4a2d-d3c3-1d3f778493fa",
    "ExecuteTime": {
     "end_time": "2024-04-30T03:08:03.019315Z",
     "start_time": "2024-04-30T03:08:02.892231Z"
    }
   },
   "source": [
    "epochs = [i for i in range(1,33)]\n",
    "plt.plot(epochs,training_history.history['accuracy'],color='red')\n",
    "plt.xlabel('No. of Epochs')\n",
    "plt.ylabel('Traiining Accuracy')\n",
    "plt.title('Visualization of Training Accuracy Result')\n",
    "plt.show()"
   ],
   "outputs": [
    {
     "data": {
      "text/plain": [
       "<Figure size 640x480 with 1 Axes>"
      ],
      "image/png": "[encoded data removed]"
     },
     "metadata": {},
     "output_type": "display_data"
    }
   ],
   "execution_count": 27
  },
  {
   "cell_type": "markdown",
   "metadata": {
    "id": "FbOcpJL1FvJG"
   },
   "source": [
    "##Validation Accuracy"
   ]
  },
  {
   "cell_type": "code",
   "metadata": {
    "colab": {
     "background_save": true
    },
    "id": "ZXyC9WAJEs-B",
    "outputId": "55c93157-47a5-4784-d665-013124912371",
    "ExecuteTime": {
     "end_time": "2024-04-30T03:08:15.110263Z",
     "start_time": "2024-04-30T03:08:15.020353Z"
    }
   },
   "source": [
    "plt.plot(epochs,training_history.history['val_accuracy'],color='blue')\n",
    "plt.xlabel('No. of Epochs')\n",
    "plt.ylabel('Validation Accuracy')\n",
    "plt.title('Visualization of Validation Accuracy Result')\n",
    "plt.show()"
   ],
   "outputs": [
    {
     "data": {
      "text/plain": [
       "<Figure size 640x480 with 1 Axes>"
      ],
      "image/png": "[encoded data removed]"
     },
     "metadata": {},
     "output_type": "display_data"
    }
   ],
   "execution_count": 28
  },
  {
   "cell_type": "code",
   "metadata": {
    "colab": {
     "background_save": true
    },
    "id": "6mB3DkYFEuRg",
    "ExecuteTime": {
     "end_time": "2024-04-30T03:08:18.372620Z",
     "start_time": "2024-04-30T03:08:18.369795Z"
    }
   },
   "source": [],
   "outputs": [],
   "execution_count": 28
  },
  {
   "cell_type": "markdown",
   "metadata": {
    "id": "IJfYwGbmASaL"
   },
   "source": [
    "##Test set Evaluation"
   ]
  },
  {
   "cell_type": "code",
   "metadata": {
    "colab": {
     "background_save": true
    },
    "id": "fGs_0S4AAUj_",
    "outputId": "d3240687-2d72-4890-bab0-4f3f3fb238a6",
    "ExecuteTime": {
     "end_time": "2024-04-30T03:08:19.873337Z",
     "start_time": "2024-04-30T03:08:19.811385Z"
    }
   },
   "source": [
    "test_set = tf.keras.utils.image_dataset_from_directory(\n",
    "    'archive/test',\n",
    "    labels=\"inferred\",\n",
    "    label_mode=\"categorical\",\n",
    "    class_names=None,\n",
    "    color_mode=\"rgb\",\n",
    "    batch_size=32,\n",
    "    image_size=(64, 64),\n",
    "    shuffle=True,\n",
    "    seed=None,\n",
    "    validation_split=None,\n",
    "    subset=None,\n",
    "    interpolation=\"bilinear\",\n",
    "    follow_links=False,\n",
    "    crop_to_aspect_ratio=False\n",
    ")"
   ],
   "outputs": [
    {
     "name": "stdout",
     "output_type": "stream",
     "text": [
      "Found 359 files belonging to 36 classes.\n"
     ]
    }
   ],
   "execution_count": 29
  },
  {
   "cell_type": "code",
   "metadata": {
    "colab": {
     "background_save": true
    },
    "id": "GdMcF4vnAYuM",
    "ExecuteTime": {
     "end_time": "2024-04-30T03:08:22.093473Z",
     "start_time": "2024-04-30T03:08:21.253823Z"
    }
   },
   "source": [
    "test_loss,test_acc = cnn.evaluate(test_set)\n",
    "print('Test accuracy:', test_acc)"
   ],
   "outputs": [
    {
     "name": "stdout",
     "output_type": "stream",
     "text": [
      "\u001B[1m12/12\u001B[0m \u001B[32m━━━━━━━━━━━━━━━━━━━━\u001B[0m\u001B[37m\u001B[0m \u001B[1m1s\u001B[0m 51ms/step - accuracy: 0.9663 - loss: 0.2308\n",
      "Test accuracy: 0.9582172632217407\n"
     ]
    }
   ],
   "execution_count": 30
  },
  {
   "cell_type": "code",
   "execution_count": null,
   "metadata": {
    "colab": {
     "background_save": true
    },
    "id": "MmHXzT0PAiOn"
   },
   "outputs": [],
   "source": []
  }
 ],
 "metadata": {
  "accelerator": "GPU",
  "colab": {
   "gpuType": "T4",
   "provenance": []
  },
  "kernelspec": {
   "display_name": "Python 3 (ipykernel)",
   "language": "python",
   "name": "python3"
  },
  "language_info": {
   "codemirror_mode": {
    "name": "ipython",
    "version": 3
   },
   "file_extension": ".py",
   "mimetype": "text/x-python",
   "name": "python",
   "nbconvert_exporter": "python",
   "pygments_lexer": "ipython3",
   "version": "3.9.12"
  }
 },
 "nbformat": 4,
 "nbformat_minor": 1
}
